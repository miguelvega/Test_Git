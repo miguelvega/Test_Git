{
 "cells": [
  {
   "cell_type": "markdown",
   "id": "e4a48132",
   "metadata": {},
   "source": [
    "## Modismos en Ruby\n",
    "\n",
    "Un modismo de programación es una forma de hacer o expresar algo que ocurre con frecuencia en el código escrito por usuarios experimentados de un lenguaje de programación determinado. Si bien puede haber otras formas de realizar la misma tarea, la forma idiomática es la que revela más fácilmente la intención a otros usuarios experimentados del lenguaje. \n",
    "\n",
    "En esta sección exploramos algunos modismos clave de Ruby: duck typing, bloques, modo poetico,  modulos, mixins. \n",
    "\n",
    "\n"
   ]
  },
  {
   "cell_type": "markdown",
   "id": "38bb0454",
   "metadata": {},
   "source": [
    "### Definiendo un método\n",
    "\n",
    "Como hemos visto, un método se define utilizando la palabra clave `def`. La palabra clave `def` crea un método y devuelve el nombre del método como un símbolo, lo que nos permite colocar métodos decoradores como `private` antes de la declaración. Ver [Ruby Access Control Basics: Public vs Private vs Protected methods](https://tjoye20.medium.com/ruby-access-control-basics-public-vs-private-vs-protected-methods-7788b26e04a7)\n",
    "\n",
    "El cuerpo de un método contiene expresiones Ruby normales. El valor de retorno de un método es el valor de la última expresión ejecutada o el argumento de una expresión de retorno explícita. \n",
    "\n",
    "Un hecho importante acerca de `def` es que si define un método por segunda vez, Ruby no generará un error, imprimirá una advertencia y luego simplemente redefinirá el método usando la segunda definición:"
   ]
  },
  {
   "cell_type": "code",
   "execution_count": 2,
   "id": "b0e39eed",
   "metadata": {},
   "outputs": [
    {
     "name": "stdout",
     "output_type": "stream",
     "text": [
      "Damian Wayne\n"
     ]
    }
   ],
   "source": [
    "class Batman\n",
    "  def quien_es_robin\n",
    "    puts \"Dick Grayson\"\n",
    "  end\n",
    "  def quien_es_robin\n",
    "    puts \"Damian Wayne\"\n",
    "  end\n",
    "end\n",
    "Batman.new.quien_es_robin"
   ]
  },
  {
   "cell_type": "markdown",
   "id": "5ad63f78",
   "metadata": {},
   "source": [
    "#### Parámetros del método\n",
    "\n",
    "Es posible que necesitemos declarar algunos parámetros para el método. Los parámetros se definen utilizando una lista de nombres de variables locales. \n",
    "\n",
    "Usar paréntesis alrededor de los parámetros de un método en la definición es opcional. La convención estándar es usarlos cuando un método tiene parámetros y omitirlos cuando no los tiene. Ten en cuenta que si el método se define utilizando la sintaxis de `endless method`, la lista de parámetros debe estar entre paréntesis, pero no es necesario incluir paréntesis vacíos."
   ]
  },
  {
   "cell_type": "code",
   "execution_count": 3,
   "id": "4543f33a",
   "metadata": {},
   "outputs": [
    {
     "data": {
      "text/plain": [
       ":metodo1"
      ]
     },
     "execution_count": 3,
     "metadata": {},
     "output_type": "execute_result"
    }
   ],
   "source": [
    "def metodo1(arg1, arg2, arg3) # 3 parametros\n",
    "  # Codigo para el metodo1\n",
    "end\n",
    "def metodo1        # No parametros\n",
    "# codigo para el metodo 2\n",
    "end"
   ]
  },
  {
   "cell_type": "markdown",
   "id": "0ce232ed",
   "metadata": {},
   "source": [
    "Ruby te permite especificar valores predeterminados para los parámetros de un método: valores que se usarán si el que llama no los pasa explícitamente. Para ello, utiliza un signo igual (=) seguido de una expresión Ruby. Esa expresión puede incluir referencias a parámetros anteriores de la lista:"
   ]
  },
  {
   "cell_type": "code",
   "execution_count": 5,
   "id": "b8f7990f",
   "metadata": {},
   "outputs": [
    {
     "name": "stdout",
     "output_type": "stream",
     "text": [
      "\"Miles, Coltrane, Roach.\"\n",
      "\"Bart, Coltrane, Roach.\"\n",
      "\"Bart, Elwood, Roach.\"\n"
     ]
    },
    {
     "data": {
      "text/plain": [
       "\"Bart, Elwood, Linus.\""
      ]
     },
     "execution_count": 5,
     "metadata": {},
     "output_type": "execute_result"
    }
   ],
   "source": [
    "def cool_dude(arg1=\"Miles\", arg2=\"Coltrane\", arg3=\"Roach\")\n",
    "  \"#{arg1}, #{arg2}, #{arg3}.\"\n",
    "end\n",
    "\n",
    "p cool_dude\n",
    "p cool_dude(\"Bart\")\n",
    "p cool_dude(\"Bart\", \"Elwood\")\n",
    "cool_dude(\"Bart\", \"Elwood\", \"Linus\")"
   ]
  },
  {
   "cell_type": "markdown",
   "id": "9fb30cdc",
   "metadata": {},
   "source": [
    "A continuación se muestra un ejemplo en el que el parámetro predeterminado hace referencia a un parámetro anterior:"
   ]
  },
  {
   "cell_type": "code",
   "execution_count": 9,
   "id": "5dcebc99",
   "metadata": {},
   "outputs": [
    {
     "name": "stdout",
     "output_type": "stream",
     "text": [
      "\"[[[[elephant]]]]\"\n",
      "\"[fox]\"\n"
     ]
    },
    {
     "data": {
      "text/plain": [
       "\"[[[[[[[[[[fox]]]]]]]]]]\""
      ]
     },
     "execution_count": 9,
     "metadata": {},
     "output_type": "execute_result"
    }
   ],
   "source": [
    "def surround(palabra, pad_width=palabra.length/2)\n",
    "    \"[\" * pad_width + palabra + \"]\" * pad_width\n",
    "end\n",
    "\n",
    "p surround(\"elephant\") \n",
    "p surround(\"fox\")\n",
    "surround(\"fox\", 10)"
   ]
  },
  {
   "cell_type": "markdown",
   "id": "1fed055e",
   "metadata": {},
   "source": [
    "El valor del parámetro predeterminado se reevalúa cada vez que se llama al método, y cualquier variable que sea visible dentro del método mismo está disponible para la expresión del valor predeterminado."
   ]
  },
  {
   "cell_type": "markdown",
   "id": "fd7add03",
   "metadata": {},
   "source": [
    "#### Listas de parámetros de longitud variable\n",
    "\n",
    "¿Qué sucede si deseas pasar una cantidad variable de parámetros o deseaS capturar varios argumentos en un solo parámetro? Colocar un asterisco antes del nombre del parámetro Te permite hacer precisamente eso. A esto a veces se le llama **splat**."
   ]
  },
  {
   "cell_type": "code",
   "execution_count": 11,
   "id": "9405d9c2",
   "metadata": {
    "scrolled": true
   },
   "outputs": [
    {
     "name": "stdout",
     "output_type": "stream",
     "text": [
      "\"arg1=uno -- rest=[]\"\n",
      "\"arg1=uno -- rest=[\\\"dos\\\"]\"\n"
     ]
    },
    {
     "data": {
      "text/plain": [
       "\"arg1=uno -- rest=[\\\"dos\\\", \\\"tres\\\"]\""
      ]
     },
     "execution_count": 11,
     "metadata": {},
     "output_type": "execute_result"
    }
   ],
   "source": [
    "def variable_args(arg1, *rest)\n",
    "  \"arg1=#{arg1} -- rest=#{rest.inspect}\"\n",
    "end\n",
    "p variable_args(\"uno\")\n",
    "p variable_args(\"uno\", \"dos\")\n",
    "variable_args(\"uno\", \"dos\", \"tres\")"
   ]
  },
  {
   "cell_type": "markdown",
   "id": "f7ee46ce",
   "metadata": {},
   "source": [
    "En este ejemplo, el primer argumento se asigna al primer parámetro del método. Sin embargo, el siguiente parámetro tiene como prefijo un asterisco, por lo que todos los argumentos restantes se agrupan en un nuevo arreglo, que luego se asigna a ese parámetro."
   ]
  },
  {
   "cell_type": "markdown",
   "id": "e9ecbefe",
   "metadata": {},
   "source": [
    "**Hash y parametros de palabras clave**\n",
    "\n",
    "Puedes recopilar argumentos de palabras clave arbitrarios en un Hash con double splat o **:"
   ]
  },
  {
   "cell_type": "code",
   "execution_count": 65,
   "id": "dd95646b",
   "metadata": {},
   "outputs": [
    {
     "name": "stdout",
     "output_type": "stream",
     "text": [
      "\"arg1=uno. rest={}\"\n",
      "\"arg1=uno. rest={:color=>\\\"rojo\\\"}\"\n"
     ]
    },
    {
     "data": {
      "text/plain": [
       "\"arg1=uno. rest={:color=>\\\"rojo\\\", :size=>\\\"xl\\\"}\""
      ]
     },
     "execution_count": 65,
     "metadata": {},
     "output_type": "execute_result"
    }
   ],
   "source": [
    "def varargs(arg1, **rest)\n",
    "  \"arg1=#{arg1}. rest=#{rest.inspect}\"\n",
    "end\n",
    "\n",
    "p varargs(\"uno\")\n",
    "p varargs(\"uno\", color: \"rojo\")\n",
    "varargs \"uno\", color: \"rojo\", size: \"xl\""
   ]
  },
  {
   "cell_type": "markdown",
   "id": "c616ffd4",
   "metadata": {},
   "source": [
    "### Repaso de POO\n",
    "\n",
    "#### ¿Qué es un objeto?\n",
    "\n",
    "Un objeto es una forma de estructurar su código. Contiene dos cosas: datos (o propiedades) y lógica (o métodos). Puedes pensar en los objetos como piezas de funcionalidad autónomas que pueden comunicarse con otros objetos a través de mensajes.\n",
    "\n",
    "#### ¿Qué es una clase?\n",
    "\n",
    "Una clase es una forma sencilla de crear varios objetos del mismo tipo. Es como una plantilla.\n",
    "\n",
    "Por ejemplo, si tienes una clase `Car`, puedes crear un objeto Subaru o un objeto Mustang. Como puedes imaginar, estos dos objetos, aunque son automóviles, tienen propiedades ligeramente diferentes (por ejemplo, el Subaru puede ser azul mientras que el mustang puede ser rojo).\n",
    "\n",
    "\n"
   ]
  },
  {
   "cell_type": "markdown",
   "id": "26f18e3c",
   "metadata": {},
   "source": [
    "#### Encapsulación\n",
    "\n",
    "La encapsulación es un mecanismo para ocultar datos desde el exterior de un objeto. Es un concepto en el que los datos y los métodos que funcionan con esos datos se agrupan en una unidad."
   ]
  },
  {
   "cell_type": "code",
   "execution_count": 13,
   "id": "40844d6b",
   "metadata": {},
   "outputs": [
    {
     "ename": "NoMethodError",
     "evalue": "undefined method `nombre' for #<#<Class:0x000055a6e05e9228>::Persona:0x000055a6e0ac16b0>",
     "output_type": "error",
     "traceback": [
      "\u001b[31mNoMethodError\u001b[0m: undefined method `nombre' for #<#<Class:0x000055a6e05e9228>::Persona:0x000055a6e0ac16b0>",
      "(irb):6:in `irb_binding'"
     ]
    }
   ],
   "source": [
    "class Persona\n",
    "  def initialize(nombre)\n",
    "    @nombre = nombre\n",
    "  end\n",
    "end\n",
    "\n",
    "Persona.new(\"Joe\").nombre\n",
    "# => NoMethodError (undefined method `nombre' for #<Persona:...>)\n"
   ]
  },
  {
   "cell_type": "markdown",
   "id": "4febc69d",
   "metadata": {},
   "source": [
    "En este ejemplo, los datos (la variable de instancia) son privados."
   ]
  },
  {
   "cell_type": "code",
   "execution_count": 15,
   "id": "94f220a4",
   "metadata": {},
   "outputs": [
    {
     "name": "stdout",
     "output_type": "stream",
     "text": [
      "Nombre: Alice\n",
      "Edad: 30\n"
     ]
    },
    {
     "ename": "NoMethodError",
     "evalue": "private method `verificar_edad' called for #<#<Class:0x000055a6e05e9228>::Persona:0x000055a6e0a80c28>",
     "output_type": "error",
     "traceback": [
      "\u001b[31mNoMethodError\u001b[0m: private method `verificar_edad' called for #<#<Class:0x000055a6e05e9228>::Persona:0x000055a6e0a80c28>",
      "(irb):51:in `irb_binding'"
     ]
    }
   ],
   "source": [
    "# Completa\n",
    "class Persona\n",
    "  def initialize(nombre, edad)\n",
    "    @nombre = nombre\n",
    "    @edad = edad\n",
    "  end\n",
    "\n",
    "  # Método público para obtener el nombre\n",
    "  def obtener_nombre\n",
    "    @nombre\n",
    "  end\n",
    "\n",
    "  # Método público para establecer el nombre\n",
    "  def establecer_nombre(nuevo_nombre)\n",
    "    @nombre = nuevo_nombre\n",
    "  end\n",
    "\n",
    "  # Método público para obtener la edad\n",
    "  def obtener_edad\n",
    "    @edad\n",
    "  end\n",
    "\n",
    "  # Método público para establecer la edad\n",
    "  def establecer_edad(nueva_edad)\n",
    "    @edad = nueva_edad\n",
    "  end\n",
    "\n",
    "  # Método privado para verificar la edad\n",
    "  private\n",
    "\n",
    "  def verificar_edad(edad)\n",
    "    if edad >= 0\n",
    "      @edad = edad\n",
    "    else\n",
    "      puts \"La edad no puede ser negativa.\"\n",
    "    end\n",
    "  end\n",
    "end\n",
    "\n",
    "# Crear una instancia de Persona\n",
    "persona = Persona.new(\"Alice\", 30)\n",
    "\n",
    "# Acceder a los atributos a través de métodos públicos\n",
    "puts \"Nombre: #{persona.obtener_nombre}\"\n",
    "puts \"Edad: #{persona.obtener_edad}\"\n",
    "\n",
    "# Establecer el nombre y la edad a través de métodos públicos\n",
    "persona.establecer_nombre(\"Bob\")\n",
    "persona.establecer_edad(25)\n",
    "\n",
    "# Intentar establecer una edad negativa (esto fallará y mostrará un mensaje)\n",
    "persona.verificar_edad(-5)\n"
   ]
  },
  {
   "cell_type": "markdown",
   "id": "017d0d79",
   "metadata": {},
   "source": [
    "#### Herencia\n",
    "\n",
    "La herencia permite la reutilización del código al especificar rasgos comunes para diferentes objetos al definir una relación padre/hijo (o `is-a`).\n",
    "\n",
    "La clase que se utiliza como base para la herencia se denomina `superclase`, mientras que la clase que hereda de una superclase se denomina subclase o clase derivada, pero clase principal y clase secundaria también son términos aceptables.\n"
   ]
  },
  {
   "cell_type": "code",
   "execution_count": 46,
   "id": "35b58ee5",
   "metadata": {},
   "outputs": [
    {
     "data": {
      "text/plain": [
       ":initialize"
      ]
     },
     "execution_count": 46,
     "metadata": {},
     "output_type": "execute_result"
    }
   ],
   "source": [
    "class Persona\n",
    "  attr_reader :nombre,:edad\n",
    "\n",
    "  def initialize(nombre, edad)\n",
    "    @nombre = nombre\n",
    "    @edad = edad\n",
    "  end\n",
    "\n",
    "  def descripcion\n",
    "    nombre + \" tiene \" + edad.to_s + \"years \"\n",
    "  end\n",
    "end\n",
    "\n",
    "class Hijo < Persona\n",
    "  def initialize(nombre, edad, hobbies)\n",
    "    super(nombre, edad)\n",
    "    @hobbies = hobbies\n",
    "  end\n",
    "end\n",
    "\n",
    "class Padre < Persona\n",
    "  def initialize(nombre, edad, trabajo)\n",
    "    super(nombre, edad)\n",
    "    @trabajo = trabajo\n",
    "  end\n",
    "end\n",
    "\n",
    "# Completa\n"
   ]
  },
  {
   "cell_type": "markdown",
   "id": "93b3a844",
   "metadata": {},
   "source": [
    "La gente a veces usa un símbolo para especificar parámetros que no son usados por el método pero que tal vez sí sean usados por el método correspondiente en una superclase. \n",
    "\n",
    "Ten en cuenta que en este ejemplo llamamos a `super` sin parámetros. Este es un caso especial que significa \"invocar este método en la superclase, pasándole todos los parámetros que se le dieron al método original\"."
   ]
  },
  {
   "cell_type": "code",
   "execution_count": 54,
   "id": "56153a8c-5934-463c-b3bc-6eedf93d4e9c",
   "metadata": {},
   "outputs": [
    {
     "name": "stdout",
     "output_type": "stream",
     "text": [
      "Fido dice: Soy un animal y no puedo hablar. ¡Guau, guau!\n",
      "Whiskers dice: Soy un animal y no puedo hablar. ¡Miau, miau! Ronroneo, Prrr\n"
     ]
    }
   ],
   "source": [
    "class Animal\n",
    "  def initialize(nombre)\n",
    "    @nombre = nombre\n",
    "  end\n",
    "\n",
    "  def hablar\n",
    "    \"Soy un animal y no puedo hablar.\"\n",
    "  end\n",
    "end\n",
    "\n",
    "class Perro < Animal\n",
    "  def hablar\n",
    "    super + \" ¡Guau, guau!\"\n",
    "  end\n",
    "end\n",
    "\n",
    "class Gato < Animal\n",
    "  def hablar(*sonidos)\n",
    "    super() + \" ¡Miau, miau! #{sonidos.join(', ')}\"\n",
    "  end\n",
    "end\n",
    "\n",
    "perro = Perro.new(\"Fido\")\n",
    "gato = Gato.new(\"Whiskers\")\n",
    "\n",
    "puts \"#{perro.instance_variable_get(:@nombre)} dice: #{perro.hablar}\"\n",
    "puts \"#{gato.instance_variable_get(:@nombre)} dice: #{gato.hablar(\"Ronroneo\", \"Prrr\")}\"\n"
   ]
  },
  {
   "cell_type": "code",
   "execution_count": 55,
   "id": "23d36f04",
   "metadata": {},
   "outputs": [
    {
     "ename": "TypeError",
     "evalue": "superclass mismatch for class Hijo",
     "output_type": "error",
     "traceback": [
      "\u001b[31mTypeError\u001b[0m: superclass mismatch for class Hijo",
      "(irb):in `irb_binding'"
     ]
    }
   ],
   "source": [
    "class Hijo < Padre\n",
    "  def hacer_algo(*no_usado)\n",
    "    # procesamiento\n",
    "    super\n",
    "  end\n",
    "end"
   ]
  },
  {
   "cell_type": "markdown",
   "id": "da51554f",
   "metadata": {},
   "source": [
    "Si el parámetro realmente no se utiliza, también puedeS omitir el nombre del parámetro y simplemente escribir un asterisco:"
   ]
  },
  {
   "cell_type": "code",
   "execution_count": 56,
   "id": "dbd62e27",
   "metadata": {},
   "outputs": [
    {
     "ename": "TypeError",
     "evalue": "superclass mismatch for class Hijo",
     "output_type": "error",
     "traceback": [
      "\u001b[31mTypeError\u001b[0m: superclass mismatch for class Hijo",
      "(irb):in `irb_binding'"
     ]
    }
   ],
   "source": [
    "class Hijo < Padre\n",
    "  def hacer_algo(*)\n",
    "    # procesamiento\n",
    "    super\n",
    "  end\n",
    "end"
   ]
  },
  {
   "cell_type": "markdown",
   "id": "ae11b363",
   "metadata": {},
   "source": [
    "Y, a partir de Ruby, puedes pasar el parámetro splat anónimo a otro método sin darle un nombre."
   ]
  },
  {
   "cell_type": "code",
   "execution_count": 29,
   "id": "85c1cd69",
   "metadata": {},
   "outputs": [
    {
     "ename": "SyntaxError",
     "evalue": "(irb):2: syntax error, unexpected ')'\n    metodo_2(*)\n              ^\n(irb):10: syntax error, unexpected end-of-input, expecting `end'",
     "output_type": "error",
     "traceback": [
      "\u001b[31mSyntaxError\u001b[0m: (irb):2: syntax error, unexpected ')'\n    metodo_2(*)\n              ^\n(irb):10: syntax error, unexpected end-of-input, expecting `end'"
     ]
    }
   ],
   "source": [
    "class Ejemplo\n",
    "  def metodo_1(*)\n",
    "    metodo_2(*)\n",
    "  end\n",
    "  \n",
    "  def metodo_2(*array_args)\n",
    "    puts array_args.join(\", \")\n",
    "  end\n",
    "end\n",
    "\n",
    "#puts Ejemplo.new.metodo_1(\"a\", \"b\", \"c\")"
   ]
  },
  {
   "cell_type": "markdown",
   "id": "970077ad",
   "metadata": {},
   "source": [
    "Sin embargo, debes darle un nombre al símbolo si quieres usarlo, por lo que no puedes escribir `*.join` o algo así.\n",
    " Puedes colocar el parámetro splat en cualquier lugar de la lista de parámetros de un método, lo que te permitirá escribir esto:"
   ]
  },
  {
   "cell_type": "code",
   "execution_count": 57,
   "id": "5b8cbda7",
   "metadata": {
    "scrolled": true
   },
   "outputs": [
    {
     "name": "stdout",
     "output_type": "stream",
     "text": [
      "Primero: 1, splat: [], ultimo: 2\n",
      "Primero: 1, splat: [2], ultimo: 3\n",
      "Primero: 1, splat: [2, 3], ultimo: 4\n"
     ]
    }
   ],
   "source": [
    "def split_apart(primero, *splat, ultimo)\n",
    "  puts \"Primero: #{primero.inspect}, splat: #{splat.inspect}, \" +\n",
    "    \"ultimo: #{ultimo.inspect}\"\n",
    "end\n",
    "\n",
    "split_apart(1,2)\n",
    "split_apart(1,2,3)\n",
    "split_apart(1,2,3,4)"
   ]
  },
  {
   "cell_type": "markdown",
   "id": "835c4e61",
   "metadata": {},
   "source": [
    "En la práctica, esto nos resulta confuso. Si solo te importan el primer y el último parámetro, puedes definir este método utilizando la sintaxis simple del asterisco:"
   ]
  },
  {
   "cell_type": "code",
   "execution_count": 58,
   "id": "7e3320fd",
   "metadata": {},
   "outputs": [
    {
     "ename": "SyntaxError",
     "evalue": "(irb): syntax error, unexpected end-of-input",
     "output_type": "error",
     "traceback": [
      "\u001b[31mSyntaxError\u001b[0m: (irb): syntax error, unexpected end-of-input"
     ]
    }
   ],
   "source": [
    "#def split_apart(primero, *, ultimo)"
   ]
  },
  {
   "cell_type": "markdown",
   "id": "b83a8c3f",
   "metadata": {},
   "source": [
    "Sólo puedes tener un parámetro splat de arreglo en un método,  si tuvieras dos, la asignación de parámetros sería ambigua. Tampoco puedes poner parámetros con valores predeterminados después del parámetro splat. En todos los casos, el argumento splat recibe los valores sobrantes después de asignarlos a los argumentos posicionales."
   ]
  },
  {
   "cell_type": "markdown",
   "id": "7b396183",
   "metadata": {},
   "source": [
    "Al igual que con único splat puedes usar `**` para ignorar los parámetros de palabras clave o usarlo  para pasar el hash completo a otro método. Un splat simple captará argumentos posicionales, un splat doble captará argumentos de palabras clave."
   ]
  },
  {
   "cell_type": "code",
   "execution_count": 59,
   "id": "06a0265b",
   "metadata": {},
   "outputs": [
    {
     "ename": "SyntaxError",
     "evalue": "(irb):2: syntax error, unexpected ')'\n    hace_algo_mas(**)\n                    ^\n",
     "output_type": "error",
     "traceback": [
      "\u001b[31mSyntaxError\u001b[0m: (irb):2: syntax error, unexpected ')'\n    hace_algo_mas(**)\n                    ^\n"
     ]
    }
   ],
   "source": [
    "class Hijo < Padre\n",
    "  def hacer_algo(**)\n",
    "    hace_algo_mas(**)\n",
    "    super\n",
    "  end\n",
    "end"
   ]
  },
  {
   "cell_type": "markdown",
   "id": "611373f8",
   "metadata": {},
   "source": [
    "Ruby también te permite usar `**nil` para indicar explícitamente que el método no acepta ningún argumento de palabras clave. De lo contrario, una definición de método que utiliza un solo splat obtendrá argumentos de palabras clave como un hash. Si no deseas ese comportamiento, **nil** generará una excepción."
   ]
  },
  {
   "cell_type": "markdown",
   "id": "b7102bfe",
   "metadata": {},
   "source": [
    "#### Polimorfismo\n",
    "\n",
    "Los métodos pueden comportarse de manera diferente según el tipo de objeto al que los invoca. En otras palabras, puede enviar el mismo mensaje a diferentes objetos y recibir datos diferentes.\n",
    "\n",
    "Una forma de lograr el polimorfismo es mediante el uso de la herencia.\n"
   ]
  },
  {
   "cell_type": "code",
   "execution_count": null,
   "id": "74af0644",
   "metadata": {},
   "outputs": [],
   "source": [
    "class Persona\n",
    "  def initialize(nombre)\n",
    "    @nombre = nombre\n",
    "  end\n",
    "\n",
    "  def mi_nombre\n",
    "    @nombre\n",
    "  end\n",
    "end\n",
    "\n",
    "class Hijo < Persona\n",
    "end\n",
    "\n",
    "class Padre < Persona\n",
    "  def mi_nombre\n",
    "    \"Mi nombre es #{@nombre}.\"\n",
    "  end\n",
    "end\n",
    "\n",
    "# Completa"
   ]
  },
  {
   "cell_type": "markdown",
   "id": "4017f175",
   "metadata": {},
   "source": [
    "Al llamar el mismo mensaje en diferentes tipos de objetos, puede tener un comportamiento diferente según el tipo de objeto.\n",
    "\n",
    "También puedes lograr polimorfismo en tiempo de ejecución mediante el **duck typing**.\n"
   ]
  },
  {
   "cell_type": "markdown",
   "id": "f867e19c",
   "metadata": {},
   "source": [
    "### Duck Typing\n",
    "\n",
    "Los términos polimorfismo y duck typing vienen ligados a la programación orientada a objetos y lenguajes con tipado dinámico, pero son frecuentemente confundidos . Veamos sus diferencias.\n",
    "\n",
    "**Polimorfismo**\n",
    "\n",
    "En el ámbito de la programación, el polimorfismo es un concepto que viene asociado a la programación orientada a objetos. Concretamente, significa que una subclase puede cambiar la implementación (o override) los métodos de la clase padre. Es decir, que un método de una clase hija puede tener un comportamiento diferente al de la clase padre.\n",
    "\n",
    "O visto de otra manera, una clase puede tomar diferentes formas, algo que es totalmente coherente con el origen de la palabra, polys (muchos) y morfo (formas).\n",
    "\n",
    "Veamos un ejemplo. Por un lado definimos una clase `Animal` con un método `hablar()` . El uso de `pass` simplemente significa que dejamos el método vacío."
   ]
  },
  {
   "cell_type": "code",
   "execution_count": 2,
   "id": "64c55230",
   "metadata": {},
   "outputs": [],
   "source": [
    "class Animal:\n",
    "    def hablar(self):\n",
    "        pass"
   ]
  },
  {
   "cell_type": "markdown",
   "id": "88fdc952",
   "metadata": {},
   "source": [
    "Por otro lado tenemos otras tres clases, `Perro` `Gato` y `Vaca` que implementan el método anterior de manera distinta."
   ]
  },
  {
   "cell_type": "code",
   "execution_count": 3,
   "id": "7a82b6eb",
   "metadata": {},
   "outputs": [],
   "source": [
    "class Perro(Animal):\n",
    "    def hablar(self):\n",
    "        print(\"Guau!\")\n",
    "\n",
    "class Gato(Animal):\n",
    "    def hablar(self):\n",
    "        print(\"Miau!\")\n",
    "\n",
    "class Vaca(Animal):\n",
    "    def hablar(self):\n",
    "        print(\"Muuu!\")"
   ]
  },
  {
   "cell_type": "markdown",
   "id": "95699925",
   "metadata": {},
   "source": [
    "Si ahora llamamos al método hablar de cada animal, podremos ver el resultado de las diferentes implementaciones."
   ]
  },
  {
   "cell_type": "code",
   "execution_count": 4,
   "id": "c8c6c6f4",
   "metadata": {},
   "outputs": [
    {
     "name": "stdout",
     "output_type": "stream",
     "text": [
      "Guau!\n",
      "Miau!\n",
      "Muuu!\n"
     ]
    }
   ],
   "source": [
    "animales = [Perro(), Gato(), Vaca()]\n",
    "for animal in animales:\n",
    "    animal.hablar()\n",
    "    \n",
    "# Guau!\n",
    "# Miau!\n",
    "# Muuu!"
   ]
  },
  {
   "cell_type": "code",
   "execution_count": 80,
   "id": "24ef1bae-c60d-47c3-ae8a-edb143c1c0b5",
   "metadata": {},
   "outputs": [
    {
     "name": "stdout",
     "output_type": "stream",
     "text": [
      "Guau!\n",
      "Miau!\n",
      "Muuu!\n"
     ]
    },
    {
     "data": {
      "text/plain": [
       "[#<#<Class:0x000055a6e05e9228>::Dog:0x000055a6e0b6bac0>, #<#<Class:0x000055a6e05e9228>::Cat:0x000055a6e0b6ba98>, #<#<Class:0x000055a6e05e9228>::Cow:0x000055a6e0b6ba48>]"
      ]
     },
     "execution_count": 80,
     "metadata": {},
     "output_type": "execute_result"
    }
   ],
   "source": [
    "class Animales\n",
    "  def hablar\n",
    "    # Método vacío en la clase base Animal\n",
    "  end\n",
    "end\n",
    "\n",
    "class Dog < Animales\n",
    "  def hablar\n",
    "    puts \"Guau!\"\n",
    "  end\n",
    "end\n",
    "\n",
    "class Cat < Animales\n",
    "  def hablar\n",
    "    puts \"Miau!\"\n",
    "  end\n",
    "end\n",
    "\n",
    "class Cow < Animales\n",
    "  def hablar\n",
    "    puts \"Muuu!\"\n",
    "  end\n",
    "end\n",
    "\n",
    "animales = [Dog.new, Cat.new, Cow.new]\n",
    "animales.each do |animal|\n",
    "  animal.hablar\n",
    "end\n"
   ]
  },
  {
   "cell_type": "markdown",
   "id": "13226752",
   "metadata": {},
   "source": [
    "El polimorfismo estático, también conocido como polimorfismo en tiempo de compilación, en lenguajes como Java tiene interfaces que tienen contratos especiales sobre cómo interactuar con otras clases. Una implementación del polimorfismo se llama sobrecarga de métodos, que permite que una clase tenga más de un método con el mismo nombre. Otra implementación se llama sobreescritura de métodos, que permite una declaración de método en una subclase contenida dentro de una clase padre. Los métodos en lenguajes estáticos sólo funcionan correctamente si conocen las clases y tipos de sus argumentos.\n",
    "\n",
    "El polimorfismo dinámico, también conocido como polimorfismo en tiempo de ejecución en lenguajes como Ruby, se refiere a la capacidad de diferentes objetos para responder a la misma firma de mensaje (nombre del método y parámetros especificados). Un ejemplo de polimorfismo dinámico en un lenguaje orientado a objetos se llama duck typing."
   ]
  },
  {
   "cell_type": "markdown",
   "id": "73ed7a06",
   "metadata": {},
   "source": [
    "**Duck typing** se podría traducir al Español como el “tipificación del pato”. Su origen viene de la siguiente frase: `If it looks like a duck and quacks like a duck, it’s a duck`. Es decir, que si algo se parece a un pato y grazna como un pato, entonces es un pato.\n",
    "\n",
    "Puede parecer un poco raro mezclar patos y programación, pero si cambiamos los patos por clases y parecerse/granzar por métodos, podemos ver el símil en Python.\n",
    "\n",
    "Nos viene a decir que no importa el tipo del objeto para invocar a un determinado método, basta con que esté definido. Si algo se parece, anda y grazna como un pato, ¿no dirías a caso que se trata de un pato? El razonamiento inductivo nos dice que sí, y es como funcionan en gran medida nuestros razonamientos.\n",
    "\n",
    "En realidad, la única forma de estar realmente seguros sería pidiendo un test de ADN del pato, algo tal vez no muy fácil.\n",
    "\n",
    "Pero volvamos a Python. En el siguiente ejemplo tenemos tres clases distintas sin herencia de por medio. Todas tienen codificado el método `hablar()` así que a Python le da igual el tipo al que pertenezcan."
   ]
  },
  {
   "cell_type": "code",
   "execution_count": 1,
   "id": "55608008",
   "metadata": {},
   "outputs": [
    {
     "name": "stdout",
     "output_type": "stream",
     "text": [
      "Guau!\n",
      "Miau!\n",
      "Muuu!\n"
     ]
    }
   ],
   "source": [
    "class Perro:\n",
    "    def hablar(self):\n",
    "        print(\"Guau!\")\n",
    "\n",
    "class Gato:\n",
    "    def hablar(self):\n",
    "        print(\"Miau!\")\n",
    "\n",
    "class Vaca:\n",
    "    def hablar(self):\n",
    "        print(\"Muuu!\")\n",
    "\n",
    "for animal in Perro(), Gato(), Vaca():\n",
    "    animal.hablar()\n",
    "    \n",
    "# Guau!\n",
    "# Miau!\n",
    "# Muuu!"
   ]
  },
  {
   "cell_type": "markdown",
   "id": "a2ba553b",
   "metadata": {},
   "source": [
    "### Por que usamos duck typing en Ruby"
   ]
  },
  {
   "cell_type": "markdown",
   "id": "18f96c4f",
   "metadata": {},
   "source": [
    "Cada valor de un programa está asociado a un tipo. Dependiendo del lenguaje, los tipos de variables se pueden definir de forma estática o dinámica. Ruby se basa en el principio `duck typing`. Entonces, echemos un vistazo a qué son los lenguajes tipificados estática y dinámicamente primero.\n",
    "\n",
    "En un lenguaje de tipo estático, el tipo de variable es estático. Esto significa que cuando asocia una variable con un tipo, ya no puedes cambiarla. En este caso, escribir está asociado con la variable en lugar del valor al que se refiere.\n",
    "Algunos lenguajes, como C, obligan a que cada variable se asocie con un conjunto de restricciones en el momento de la declaración. Estas restricciones son específicas de cada tipo existente en C.\n",
    "\n"
   ]
  },
  {
   "cell_type": "code",
   "execution_count": null,
   "id": "a8c32034",
   "metadata": {},
   "outputs": [],
   "source": [
    "int main()\n",
    "{\n",
    "  int  x;\n",
    "  \n",
    "  x = \"Hokage\"; //  warning: incompatible pointer to integer conversion assigning to 'int' from 'char [15]' [-Wint-conversion]\n",
    "  return (0);\n",
    "}"
   ]
  },
  {
   "cell_type": "markdown",
   "id": "25384a28",
   "metadata": {},
   "source": [
    "En el programa C anterior, podemos ver que la variable x está asociada al tipo int, para entero. Por lo tanto, este tipo estará asociado con esta variable durante toda su vida. No importa el valor que le asignemos a la variable, el tipo de variable seguirá siendo `int`.\n",
    "\n",
    "En un lenguaje escrito dinámicamente, los tipos de variables son dinámicos. Esto significa que cuando asocias una variable con un tipo, puedes cambiarla cuando quieras. En realidad, escribir está asociado con el valor que asume y no con la variable en sí. Algunos lenguajes, como Python, son lenguajes de tipado dinámico.\n"
   ]
  },
  {
   "cell_type": "code",
   "execution_count": 2,
   "id": "d82b9bc9",
   "metadata": {},
   "outputs": [],
   "source": [
    "website = \"rubyPythonJava.com\" # `website` se refiere a string\n",
    "website = True             # `website` se refiero ahora a Booleano "
   ]
  },
  {
   "cell_type": "markdown",
   "id": "cbd5e5b4",
   "metadata": {},
   "source": [
    "¿Y qué pasa con Ruby? Primero, Ruby también es un lenguaje de tipado dinámico. La escritura se define en tiempo de ejecución. No existe una verificación de tipos implícita en Ruby.\n",
    "\n",
    "El `duck typing` se basa en el conocido `Duck Test`, que podemos traducir en Ruby de la siguiente manera:\n",
    "\n",
    "`Si un objeto grazna como un pato (o actúa como un arreglo), simplemente trátelo como un pato (o un arreglo)`.\n",
    "\n",
    "\n",
    "Tengamos un ejemplo para ilustrar la cita anterior."
   ]
  },
  {
   "cell_type": "code",
   "execution_count": 1,
   "id": "9b28c5cd",
   "metadata": {},
   "outputs": [
    {
     "data": {
      "text/plain": [
       "[\"1\", \"2\", \"3\"]"
      ]
     },
     "execution_count": 1,
     "metadata": {},
     "output_type": "execute_result"
    }
   ],
   "source": [
    "a = [1, 2, 3]\n",
    "a.map(&:to_s) # => ['1', '2', '3']"
   ]
  },
  {
   "cell_type": "markdown",
   "id": "86cfb562",
   "metadata": {},
   "source": [
    "Aquí la variable a responde a map  y devuelve el objeto esperado. Entonces es legítimo pensar que una variable es un arreglo.\n",
    "\n",
    "Es decir, desde el punto de vista de `Enumerable`, si una clase tiene un método `each`, debe de ser también una colección, y eso permite que `Enumerable` pueda ofrecer otros métodos implementados en función de `each`. Cuando los programadores de Ruby dicen que una clase “suena como un Array”, suelen querer decir que no tiene por qué ser un `Array` necesariamente, ni uno de sus descendientes, pero responde a la mayoría de los métodos de un `Array` y, por tanto, se puede usar en cualquier parte donde se usaría un `Array`.\n",
    "\n",
    "\n",
    "Veamos otro ejemplo adicional:\n"
   ]
  },
  {
   "cell_type": "code",
   "execution_count": 2,
   "id": "acf27dd6",
   "metadata": {},
   "outputs": [
    {
     "data": {
      "text/plain": [
       ":saludo"
      ]
     },
     "execution_count": 2,
     "metadata": {},
     "output_type": "execute_result"
    }
   ],
   "source": [
    "class Amigo\n",
    "  def nombre\n",
    "    \"Yeka\"\n",
    "  end\n",
    "end\n",
    "\n",
    "class Hijo\n",
    "  def nombre\n",
    "    \"Kapumota\"\n",
    "  end\n",
    "end\n",
    "\n",
    "class Padre\n",
    "  def saludo(persona)\n",
    "    \"Hi #{persona.nombre}\"\n",
    "  end\n",
    "end\n"
   ]
  },
  {
   "cell_type": "markdown",
   "id": "b945296d",
   "metadata": {},
   "source": [
    "En el ejemplo anterior, tenemos dos tipos completamente diferentes (`Amigo` e `Hijo`) que responden al mismo mensaje (es decir, tienen una interfaz común), el mensaje de nombre. Es decir los tipos Duck son interfaces públicas que no están vinculadas a ninguna clase específica."
   ]
  },
  {
   "cell_type": "code",
   "execution_count": 6,
   "id": "0870f355",
   "metadata": {},
   "outputs": [
    {
     "name": "stdout",
     "output_type": "stream",
     "text": [
      "Pato grazna\n",
      "Ganso grazna\n",
      "Pato nada\n",
      "Ganso nada\n"
     ]
    },
    {
     "data": {
      "text/plain": [
       "[#<#<Class:0x0000564f2f5eb2d8>::Pato:0x0000564f2fc4ff98>, #<#<Class:0x0000564f2f5eb2d8>::Ganso:0x0000564f2fc4ff20>]"
      ]
     },
     "execution_count": 6,
     "metadata": {},
     "output_type": "execute_result"
    }
   ],
   "source": [
    "class Pato\n",
    "  def graznar\n",
    "    puts 'Pato grazna'\n",
    "  end\n",
    "  def nadar\n",
    "    puts 'Pato nada'\n",
    "  end\n",
    "end\n",
    "\n",
    "class Ganso\n",
    "  def graznar\n",
    "    puts 'Ganso grazna'\n",
    "  end\n",
    "  def nadar\n",
    "    puts 'Ganso nada'\n",
    "  end\n",
    "end \n",
    "\n",
    "class AccionesPajaros\n",
    "  attr_reader :pajaros\n",
    "  def initialize  \n",
    "    @pajaros = []  \n",
    "    pato = Pato.new()  \n",
    "    ganso = Ganso.new()  \n",
    "    @pajaros.push(pato)  \n",
    "    @pajaros.push(ganso)\n",
    "  end\n",
    "  def graznar \n",
    "    pajaros.each do | pajaro |    \n",
    "    pajaro.graznar  \n",
    "   end\n",
    "  end\n",
    "  def nadar  \n",
    "    pajaros.each do | pajaro |   \n",
    "    pajaro.nadar  \n",
    "    end\n",
    "  end\n",
    "\n",
    "end\n",
    "accion = AccionesPajaros.new()\n",
    "accion.graznar\n",
    "accion.nadar"
   ]
  },
  {
   "cell_type": "markdown",
   "id": "dabd6a1d",
   "metadata": {},
   "source": [
    "En el ejemplo anterior, tenemos 2 objetos, el primero es `Pato` y el otro es `Ganso` y la tercera clase, que es solo una clase que es un pájaro que agrega y realiza acciones sobre ellos.\n",
    "\n",
    "Ambas clases de aves tienen `2` métodos que son `graznear` y `nadar`.\n",
    "\n",
    "Ahora la parte más interesante, en la clase `AccionesPajaros` estamos creando una instancia de la clase `Pato` y `Ganso` y guardando en un arreglo `pajaros`."
   ]
  },
  {
   "cell_type": "markdown",
   "id": "a8e5e3af",
   "metadata": {},
   "source": [
    "Aquí logramos el modelo del duck typing.\n",
    "\n",
    "Esto se puede lograr en un lenguaje de tipos dinámicos, aquí podemos pasar 2 tipos diferentes de objetos que tienen métodos con el mismo nombre pero que pueden ejecutar comportamientos diferentes según los requisitos. Aquí no tenemos que marcar `kind_of?` (este método verifica la instancia de una clase) ya que comparte los métodos de la interfaz pública. Con esto, logramos la simplicidad del código al evitar declaraciones de condición como `if-else` y `switch`.\n",
    "\n",
    "Un gran poder conlleva una gran responsabilidad, al usar esta increíble característica debemos tener cuidado ya que un compilador no emitirá una alarma cuando llamemos a los métodos públicos de las instancias de clase y nos toparemos con el error o el comportamiento inesperado en el código de producción.\n",
    "\n",
    "Para evitar esto cuando escribes en la interfaz pública, debes documentar y probar su comportamiento, intenta cubrir todos los casos de uso posibles."
   ]
  },
  {
   "cell_type": "markdown",
   "id": "0f7f5710",
   "metadata": {},
   "source": [
    "Duck tiping entonces es un método de programación que permite pasar cualquier objeto a un método que tiene las firmas de método esperadas para ejecutarse. En resumen, no es importante qué es un objeto, sino qué hace. Objetos de diferentes tipos pueden responder a los mismos mensajes siempre que tengan el comportamiento del método específico.\n",
    "\n",
    "Resuelve ciertos de diseño, como declaraciones de casos grandes y métodos de puntos como `.is_a` o `.respond_to?` que potencialmente pueden causar que el software se pudra. \n",
    "\n",
    "Básicamente, permitir que tu código dependa de interfaces públicas en lugar de tipos de objetos permite flexibilidad y cambios con el tiempo."
   ]
  },
  {
   "cell_type": "markdown",
   "id": "ddefeb38",
   "metadata": {},
   "source": [
    "### Más ejemplos\n",
    "\n",
    "Sea el ejemplo de un antipatrón que puede ocultar duck typing. Notar este patrón y poder aplicar las ideas de diseño del duck tyíng para solucionarlo aumentará en gran medida la flexibilidad y extensibilidad de tu código. Esto es lo que diseñaremos:\n",
    "\n",
    "Pensemos en todo lo que implica hacer un pato de goma y construyamos un ejemplo básico a partir de esto. Un patito de goma comienza su vida como plástico líquido caliente que se vierte en un molde y se mete en un horno durante 15 minutos a 150 grados centígrados. Una vez que el patito se enfría, se entrega para que lo pinten y luego pasa por algunos controles de control de calidad. Por último, pero no menos importante, el pato de goma está empaquetado y listo para usar.\n",
    "\n",
    "Diseñemos una clase de patito que responda al mensaje de preparación. `Prepara` aceptará `n` cantidad de trabajadores y llamará a cada trabajador para que haga su parte. Aquí está el código:"
   ]
  },
  {
   "cell_type": "code",
   "execution_count": null,
   "id": "ada2a018",
   "metadata": {},
   "outputs": [],
   "source": [
    "class Patito\n",
    "  def prepara(trabajadores)\n",
    "    trabajadores.each do |trabajador|\n",
    "      case trabajador\n",
    "      when Moldear\n",
    "        trabajador.verter_molde(self)\n",
    "      when Hornear\n",
    "        trabajador.hornear_pato(self)\n",
    "      when Pintat\n",
    "        trabajador.pinta_patito(self)\n",
    "      when ControlCalidad\n",
    "        trabajador.probar_patito(self)\n",
    "      when Empaquetar\n",
    "        trabajador.empaquetar_patito(self)\n",
    "      end\n",
    "    end\n",
    "  end\n",
    "end"
   ]
  },
  {
   "cell_type": "markdown",
   "id": "3763e083",
   "metadata": {},
   "source": [
    "Observa las sutiles dependencias introducidas aquí. La clase `Patito` sabe el nombre de la clase que quieres y también sabe cómo obtenerlo de esa clase. Todo lo que el patito quiere es estar preparado, por lo que debemos confiar en otras clases y simplemente enviar el mensaje que realmente queremos enviar: prepara_patito."
   ]
  },
  {
   "cell_type": "markdown",
   "id": "349bbc38",
   "metadata": {},
   "source": [
    "Refactoriza el ejemplo de la fábrica de patitos usando ducktyíng:"
   ]
  },
  {
   "cell_type": "code",
   "execution_count": 11,
   "id": "ebb2f975",
   "metadata": {},
   "outputs": [
    {
     "data": {
      "text/plain": [
       "[#<#<Class:0x000055c462b69b18>::Moldear:0x000055c46310eaf0>, #<#<Class:0x000055c462b69b18>::Hornear:0x000055c46310eaa0>, #<#<Class:0x000055c462b69b18>::Pintar:0x000055c46310ea78>, #<#<Class:0x000055c462b69b18>::ControlCalidad:0x000055c46310ea28>, #<#<Class:0x000055c462b69b18>::Empaquetar:0x000055c46310ea00>]"
      ]
     },
     "execution_count": 11,
     "metadata": {},
     "output_type": "execute_result"
    }
   ],
   "source": [
    "# Tu respuesta\n",
    "class Patito\n",
    "  def prepara(trabajadores)\n",
    "    trabajadores.each do |trabajador|\n",
    "      trabajador.trabajar(self)\n",
    "    end\n",
    "  end\n",
    "  def verter_molde\n",
    "      \"Vierte el molde\"\n",
    "  end\n",
    "  def hornear\n",
    "      \"Hornea\"\n",
    "  end\n",
    "  def pintar\n",
    "      \"Pinta\"\n",
    "  end\n",
    "  def probar\n",
    "      \"Prueba la calidad\"\n",
    "  end\n",
    "  def empaquetar\n",
    "      \"Empaqueta\"\n",
    "  end\n",
    "end\n",
    "\n",
    "# Cada trabajador debe implementar un método 'trabajar'\n",
    "# para que el duck typing funcione correctamente.\n",
    "\n",
    "class Moldear\n",
    "  def trabajar(patito)\n",
    "    patito.verter_molde\n",
    "  end   \n",
    "end\n",
    "\n",
    "class Hornear\n",
    "  def trabajar(patito)\n",
    "    patito.hornear\n",
    "  end\n",
    "end\n",
    "\n",
    "class Pintar\n",
    "  def trabajar(patito)\n",
    "    patito.pintar\n",
    "  end\n",
    "end\n",
    "\n",
    "class ControlCalidad\n",
    "  def trabajar(patito)\n",
    "    patito.probar\n",
    "  end\n",
    "end\n",
    "\n",
    "class Empaquetar\n",
    "  def trabajar(patito)\n",
    "    patito.empaquetar\n",
    "  end\n",
    "end\n",
    "\n",
    "# Ejemplo de uso:\n",
    "trabajadores = [Moldear.new, Hornear.new, Pintar.new, ControlCalidad.new, Empaquetar.new]\n",
    "patito = Patito.new\n",
    "patito.prepara(trabajadores)\n"
   ]
  },
  {
   "cell_type": "markdown",
   "id": "ffb786b9",
   "metadata": {},
   "source": [
    "El método de preparación de la clase `Patito` no se preocupa por el tipo de objeto que es `trabajador`. Lo único que necesita es un `trabajador` que sepa preparar un patito, es decir, un patito que sepa graznar."
   ]
  },
  {
   "cell_type": "markdown",
   "id": "7312fb2f",
   "metadata": {},
   "source": [
    "#### Ejercicio\n",
    "\n",
    "Lee y completa los ejercicios de: https://codeahoy.com/learn/ruby/ch33/"
   ]
  },
  {
   "cell_type": "code",
   "execution_count": null,
   "id": "d2a28709",
   "metadata": {},
   "outputs": [],
   "source": [
    "# Tus respuestas"
   ]
  },
  {
   "cell_type": "markdown",
   "id": "fd98f1fd",
   "metadata": {},
   "source": [
    "### Bloques\n",
    "\n",
    "Los bloques Ruby son funciones anónimas que se pueden pasar a métodos. Los bloques están encerrados entre una instrucción `do-end` o llaves {}. `do-end` se usa generalmente para bloques que abarcan varias líneas, mientras que {} se usa para bloques de una sola línea. Los bloques pueden tener argumentos que deben definirse entre dos tuberías `|` de caracteres.\n",
    "\n",
    "Ruby usa el término bloque de manera diferente a como lo hacen otros lenguajes. En Ruby, un bloque es simplemente un método sin nombre, o una expresión lambda anónima en la terminología de lenguajes de programación. Tiene argumentos y puede usar variables locales, como un método normal con nombre.\n"
   ]
  },
  {
   "cell_type": "code",
   "execution_count": null,
   "id": "7a0c82db",
   "metadata": {},
   "outputs": [],
   "source": [
    "# Completa"
   ]
  },
  {
   "cell_type": "markdown",
   "id": "49e39309",
   "metadata": {},
   "source": [
    "El método `each` es un iterador disponible en todas las clases de Ruby que son de tipo colección. `each` toma un argumento —un bloque— y pasa cada elemento de la colección al bloque en cada iteración.\n",
    "\n",
    "Un bloque se rodea de las palabras `do` y `end` si el bloque toma argumentos, la lista de argumentos se encierra tras el `do` entre los simbolos `|`.\n"
   ]
  },
  {
   "cell_type": "markdown",
   "id": "43140d95",
   "metadata": {},
   "source": [
    "#### Bloques implícitos y la palabra yield\n",
    "\n",
    "En Ruby, los métodos pueden tomar bloques de forma implícita y explícita. El paso de bloques implícito funciona llamando a la palabra clave `yield` en un método. La palabra clave `yield` es especial. \n",
    "\n",
    "Encuentra y llama a un bloque pasado, por lo que no es necesario agregar el bloque a la lista de argumentos que acepta el método.\n",
    "\n",
    "Debido a que Ruby permite el paso implícito de bloques, puedes llamar a todos los métodos con un bloque. Si no llama a `yield`, el bloque se ignora."
   ]
  },
  {
   "cell_type": "code",
   "execution_count": 15,
   "id": "244cd329-613c-4ac0-851e-b4f4e62858a9",
   "metadata": {},
   "outputs": [
    {
     "name": "stdout",
     "output_type": "stream",
     "text": [
      "[\"f1\", \"bar\", \"baz\"]\n"
     ]
    }
   ],
   "source": [
    "#Correcto uso de split, se usa para el método split se utiliza para \n",
    "#dividir la cadena en partes utilizando un carácter o una expresión regular como separador.\n",
    "parts = \"f1 bar baz\".split(\" \")\n",
    "puts parts.inspect\n"
   ]
  },
  {
   "cell_type": "code",
   "execution_count": 16,
   "id": "04c26235",
   "metadata": {},
   "outputs": [
    {
     "name": "stdout",
     "output_type": "stream",
     "text": [
      "\"block!\"\n",
      "\"block!\"\n",
      "\"block!\"\n"
     ]
    },
    {
     "data": {
      "text/plain": [
       "\"f1 bar baz\""
      ]
     },
     "execution_count": 16,
     "metadata": {},
     "output_type": "execute_result"
    }
   ],
   "source": [
    "\"f1 bar baz\".split { p \"block!\" }"
   ]
  },
  {
   "cell_type": "code",
   "execution_count": 17,
   "id": "ea062c2c",
   "metadata": {},
   "outputs": [
    {
     "data": {
      "text/plain": [
       ":each"
      ]
     },
     "execution_count": 17,
     "metadata": {},
     "output_type": "execute_result"
    }
   ],
   "source": [
    "def each\n",
    "  return to_enum(:each) unless block_given?\n",
    "\n",
    "  i = 0\n",
    "  while i < size\n",
    "    yield at(i)\n",
    "    i += 1\n",
    "  end\n",
    "end\n"
   ]
  },
  {
   "cell_type": "markdown",
   "id": "3c24a506",
   "metadata": {},
   "source": [
    "Este ejemplo devuelve una instancia de `Enumerator` a menos que se proporcione un bloque.\n",
    "\n",
    "`yield` y `block_given`. Las palabras clave encuentran el bloque en el alcance actual. Esto permite pasar bloques implícitamente, pero evita que el código acceda al bloque directamente ya que no está almacenado en una variable."
   ]
  },
  {
   "cell_type": "markdown",
   "id": "a66d69df",
   "metadata": {},
   "source": [
    "#### Pasar bloques explícitamente\n",
    "\n",
    "Podemos aceptar explícitamente un bloque en un método agregándolo como argumento usando un parámetro ampersand (generalmente llamado `&block`). Dado que el bloque ahora es explícito, podemos usar el método `#call` directamente en el objeto resultante en lugar de depender de `yield`.\n",
    "\n",
    "El argumento `&block` no es un argumento adecuado, por lo que llamar a este método con cualquier otra cosa que no sea un bloque producirá un `ArgumentError`."
   ]
  },
  {
   "cell_type": "code",
   "execution_count": 18,
   "id": "ca3b5520",
   "metadata": {},
   "outputs": [
    {
     "data": {
      "text/plain": [
       ":each_explicit"
      ]
     },
     "execution_count": 18,
     "metadata": {},
     "output_type": "execute_result"
    }
   ],
   "source": [
    "def each_explicit(&block)\n",
    "  return to_enum(:each) unless block\n",
    "\n",
    "  i = 0\n",
    "  while i < size\n",
    "    block.call at(i)\n",
    "    i += 1\n",
    "  end\n",
    "end\n"
   ]
  },
  {
   "cell_type": "markdown",
   "id": "1ba4a1f5",
   "metadata": {},
   "source": [
    "Cuando un bloque se pasa así y se almacena en una variable, se convierte automáticamente en un `proc`."
   ]
  },
  {
   "cell_type": "markdown",
   "id": "edc6cd4a",
   "metadata": {},
   "source": [
    "#### Proc\n",
    "\n",
    "Un `proc` es una instancia de la clase `Proc`, que contiene un bloque de código para ejecutar y puede almacenarse en una variable. Para crear un `proc`, llamas a `Proc.new` y le pasas un bloque."
   ]
  },
  {
   "cell_type": "code",
   "execution_count": 19,
   "id": "60de0563",
   "metadata": {},
   "outputs": [
    {
     "data": {
      "text/plain": [
       "#<Proc:0x000055c462d68bf8 (irb):0>"
      ]
     },
     "execution_count": 19,
     "metadata": {},
     "output_type": "execute_result"
    }
   ],
   "source": [
    "proc = Proc.new { |n| puts \"#{n}!\" }"
   ]
  },
  {
   "cell_type": "markdown",
   "id": "fa59c7a7",
   "metadata": {},
   "source": [
    "Dado que un `proc` se puede almacenar en una variable, también se puede pasar a un método como un argumento normal. En ese caso, no usamos el signo ampersand, ya que `proc` se pasa explícitamente.\n"
   ]
  },
  {
   "cell_type": "code",
   "execution_count": 23,
   "id": "e90c47d5",
   "metadata": {},
   "outputs": [
    {
     "data": {
      "text/plain": [
       "#<Proc:0x000055c462c8c040 (irb):3>"
      ]
     },
     "execution_count": 23,
     "metadata": {},
     "output_type": "execute_result"
    }
   ],
   "source": [
    "def correr_proc_numeros_aleatorios(proc)\n",
    "  proc.call(random)\n",
    "end\n",
    "proc = Proc.new { |n| puts \"#{n}!\" }\n",
    "#correr_proc_numeros_aleatorios(proc)\n"
   ]
  },
  {
   "cell_type": "markdown",
   "id": "9c78a8a0",
   "metadata": {},
   "source": [
    "En lugar de crear un `proc` y pasarlo al método, puedes usar la sintaxis del parámetro ampersanf de Ruby que vimos anteriormente y usar un bloque en su lugar."
   ]
  },
  {
   "cell_type": "code",
   "execution_count": 24,
   "id": "cf715891",
   "metadata": {},
   "outputs": [
    {
     "data": {
      "text/plain": [
       ":correr_proc_numeros_aleatorios"
      ]
     },
     "execution_count": 24,
     "metadata": {},
     "output_type": "execute_result"
    }
   ],
   "source": [
    "def correr_proc_numeros_aleatorios(&proc)\n",
    "  proc.call(random)\n",
    "end\n",
    "#correr_proc_numeros_aleatorios{ |n| puts \"#{n}!\" }"
   ]
  },
  {
   "cell_type": "markdown",
   "id": "ed711189",
   "metadata": {},
   "source": [
    "Ten en cuenta el signo ampersand agregado al argumento en el método. Esto convertirá un bloque pasado en un objeto `proc` y lo almacenará en una variable en el alcance del método.\n",
    "\n",
    "Consejo: Si bien es útil tener el `proc` en el método en algunas situaciones, la conversión de un bloque a un proceso produce un impacto en el rendimiento. Siempre que sea posible, utiliza bloques implícitos."
   ]
  },
  {
   "cell_type": "markdown",
   "id": "672f706e",
   "metadata": {},
   "source": [
    "**#to_proc**\n",
    "\n",
    "Los símbolos, hashes y métodos se pueden convertir en `procs` utilizando sus métodos `#to_proc`. Un uso frecuente de esto es pasar un `proc` creado a partir de un símbolo a un método."
   ]
  },
  {
   "cell_type": "code",
   "execution_count": 25,
   "id": "4a7a91c7",
   "metadata": {},
   "outputs": [
    {
     "data": {
      "text/plain": [
       "[\"1\", \"2\", \"3\"]"
      ]
     },
     "execution_count": 25,
     "metadata": {},
     "output_type": "execute_result"
    }
   ],
   "source": [
    "[1,2,3].map(&:to_s)\n",
    "[1,2,3].map {|i| i.to_s }\n",
    "[1,2,3].map {|i| i.send(:to_s) }\n"
   ]
  },
  {
   "cell_type": "markdown",
   "id": "2ee46458",
   "metadata": {},
   "source": [
    "Este ejemplo muestra tres formas equivalentes de llamar a `#to_s` en cada elemento del arreglo. En el primero, se pasa un símbolo, precedido de un signo ampersand, que lo convierte automáticamente en un `proc` llamando a su método `#to_proc`. Los dos últimos muestran cómo podría verse ese `proc`."
   ]
  },
  {
   "cell_type": "code",
   "execution_count": 27,
   "id": "ce94bb49",
   "metadata": {},
   "outputs": [
    {
     "data": {
      "text/plain": [
       ":to_proc"
      ]
     },
     "execution_count": 27,
     "metadata": {},
     "output_type": "execute_result"
    }
   ],
   "source": [
    "class Symbol\n",
    "  def to_proc\n",
    "    Proc.new { |i| i.send(self) }\n",
    "  end\n",
    "end\n"
   ]
  },
  {
   "cell_type": "code",
   "execution_count": 44,
   "id": "485d8995-c893-4391-8210-37776aca8f0e",
   "metadata": {},
   "outputs": [
    {
     "data": {
      "text/plain": [
       "6"
      ]
     },
     "execution_count": 44,
     "metadata": {},
     "output_type": "execute_result"
    }
   ],
   "source": [
    "#Ejemplo adicional\n",
    "mi_proc = Proc.new { |x| x * 2 }\n",
    "resultado = mi_proc.call(3) # Devuelve 6"
   ]
  },
  {
   "cell_type": "code",
   "execution_count": 39,
   "id": "43ceb2ff-1616-46b6-9d38-5ddc92bbcd7d",
   "metadata": {},
   "outputs": [
    {
     "data": {
      "text/plain": [
       "15"
      ]
     },
     "execution_count": 39,
     "metadata": {},
     "output_type": "execute_result"
    }
   ],
   "source": [
    "def aplicar_operacion(x, &bloque)\n",
    "  bloque.call(x)\n",
    "end\n",
    "\n",
    "resultado = aplicar_operacion(5) { |y| y * 3 } # Devuelve 15\n"
   ]
  },
  {
   "cell_type": "code",
   "execution_count": 45,
   "id": "ddf97860-1fba-43a3-8e0e-877c4fe65741",
   "metadata": {},
   "outputs": [
    {
     "data": {
      "text/plain": [
       "[\"1\", \"2\", \"3\"]"
      ]
     },
     "execution_count": 45,
     "metadata": {},
     "output_type": "execute_result"
    }
   ],
   "source": [
    "numeros = [1, 2, 3]\n",
    "cadenas = numeros.map(&:to_s) # Devuelve [\"1\", \"2\", \"3\"]"
   ]
  },
  {
   "cell_type": "markdown",
   "id": "0459ae06",
   "metadata": {},
   "source": [
    "Aunque este es un ejemplo simplificado, la implementación de `Symbol#to_proc` muestra lo que sucede debajo. El método devuelve un `proc` que toma un argumento y le envía `self`. Dado que `self` es el símbolo en este contexto, llama al método `Integer#to_s`.\n"
   ]
  },
  {
   "cell_type": "markdown",
   "id": "180e0ec1",
   "metadata": {},
   "source": [
    "#### Lambdas\n",
    "\n",
    "Las lambdas son esencialmente `proc` con algunos factores distintivos. Se parecen más a métodos \"normales\" en dos sentidos: imponen el número de argumentos pasados cuando se les llama y utilizan retornos \"normales\".\n",
    "\n",
    "Cuando se llama a una lambda que espera un argumento sin uno, o si se pasa un argumento a una lambda que no lo espera, Ruby genera un `ArgumentError`."
   ]
  },
  {
   "cell_type": "code",
   "execution_count": null,
   "id": "561dd37c",
   "metadata": {},
   "outputs": [],
   "source": [
    "#lambda (a) { a }.call\n"
   ]
  },
  {
   "cell_type": "markdown",
   "id": "c2b5ee47",
   "metadata": {},
   "source": [
    "Además, una lambda trata la palabra clave `return` de la misma manera que lo hace un método. Al llamar a un `proc`, el programa cede el control al bloque de código en el `proc`. Entonces, si el `proc` regresa, regresa el alcance actual. Si se llama a un `proc` dentro de una función y las llamadas regresan, la función también regresa inmediatamente."
   ]
  },
  {
   "cell_type": "code",
   "execution_count": 33,
   "id": "1cbb63e1",
   "metadata": {},
   "outputs": [
    {
     "name": "stdout",
     "output_type": "stream",
     "text": [
      "Esto deberia ser impreso.\n"
     ]
    },
    {
     "data": {
      "text/plain": [
       "10"
      ]
     },
     "execution_count": 33,
     "metadata": {},
     "output_type": "execute_result"
    }
   ],
   "source": [
    "def return_desde_proc\n",
    "  puts \"Esto deberia ser impreso.\"\n",
    "  a = Proc.new { return 10 }.call\n",
    "  puts \"Esto no deberia ser impreso.\"\n",
    "end\n",
    "return_desde_proc"
   ]
  },
  {
   "cell_type": "markdown",
   "id": "fff48025",
   "metadata": {},
   "source": [
    "Esta función cederá el control al `proc`, por lo que cuando regresa, la función regresa. Llamar a la función en este ejemplo nunca imprimirá el resultado."
   ]
  },
  {
   "cell_type": "code",
   "execution_count": 34,
   "id": "3b4aa173",
   "metadata": {},
   "outputs": [
    {
     "name": "stdout",
     "output_type": "stream",
     "text": [
      "La lambda  retorna  10 y debe ser impreso.\n"
     ]
    }
   ],
   "source": [
    "def return_desde_lambda\n",
    "  a = lambda { return 10 }.call\n",
    "  puts \"La lambda  retorna  #{a} y debe ser impreso.\"\n",
    "end\n",
    "return_desde_lambda"
   ]
  },
  {
   "cell_type": "markdown",
   "id": "8f55b454",
   "metadata": {},
   "source": [
    "Cuando se utiliza una lambda, se imprimirá. Llamar a `return` en lambda se comportará como llamar a `return` en un método, por lo que la variable a se completa con `10` y la línea se imprime en la consola."
   ]
  },
  {
   "cell_type": "markdown",
   "id": "aed41d90",
   "metadata": {},
   "source": [
    "Para demostrar lo importantes que son los bloques Ruby, comencemos con el siguiente ejemplo:"
   ]
  },
  {
   "cell_type": "code",
   "execution_count": null,
   "id": "15e54a4c",
   "metadata": {},
   "outputs": [],
   "source": [
    "# Completa"
   ]
  },
  {
   "cell_type": "markdown",
   "id": "81b6d1b3",
   "metadata": {},
   "source": [
    "#### Métodos y bloques\n",
    "\n",
    "Cuando se llama a un método, puede estar asociado con un bloque. Normalmente, llamas al bloque desde dentro del método usando `yield`:"
   ]
  },
  {
   "cell_type": "code",
   "execution_count": 47,
   "id": "0106c7c8",
   "metadata": {},
   "outputs": [
    {
     "name": "stdout",
     "output_type": "stream",
     "text": [
      "\"Tengo 6\"\n"
     ]
    },
    {
     "data": {
      "text/plain": [
       "\"Entonce yo tengo tomotomo\""
      ]
     },
     "execution_count": 47,
     "metadata": {},
     "output_type": "execute_result"
    }
   ],
   "source": [
    "def doble(p1)\n",
    "  yield(p1 * 2)\n",
    "end\n",
    "\n",
    "p doble(3) { |val| \"Tengo #{val}\" }\n",
    "doble(\"tomo\") { |val| \"Entonce yo tengo #{val}\" }"
   ]
  },
  {
   "cell_type": "markdown",
   "id": "b6fe0346",
   "metadata": {},
   "source": [
    "Sin embargo, si el último parámetro en una lista de definición de métodos tiene como prefijo un signo ampersand, cualquier bloque asociado se convierte en un objeto `Proc` y ese objeto se asigna al parámetro.\n",
    "\n",
    "Esto te permite almacenar el bloque para usarlo más adelante."
   ]
  },
  {
   "cell_type": "code",
   "execution_count": 48,
   "id": "1141b7e3",
   "metadata": {},
   "outputs": [
    {
     "data": {
      "text/plain": [
       "\"Impuesto a la venta en 250 = 18.75\""
      ]
     },
     "execution_count": 48,
     "metadata": {},
     "output_type": "execute_result"
    }
   ],
   "source": [
    "class CalculadoraImpuestos\n",
    "  def initialize(name, &block)\n",
    "    @name, @block = name, block\n",
    "  end\n",
    "\n",
    "  def get_tax(amount)\n",
    "    \"#@name en #{amount} = #{ @block.call(amount) }\"\n",
    "  end\n",
    "end\n",
    "\n",
    "tc = CalculadoraImpuestos.new(\"Impuesto a la venta\") { |amt| amt * 0.075 }\n",
    "tc.get_tax(100) \n",
    "tc.get_tax(250)"
   ]
  },
  {
   "cell_type": "markdown",
   "id": "28b82e4e",
   "metadata": {},
   "source": [
    "No es necesario que le des un nombre al parámetro de bloque si solo lo va a pasar, simplemente puede usar un carácter `&` simple."
   ]
  },
  {
   "cell_type": "code",
   "execution_count": 49,
   "id": "75dfc6f5",
   "metadata": {},
   "outputs": [
    {
     "ename": "SyntaxError",
     "evalue": "(irb):1: syntax error, unexpected ')', expecting local variable or method\n  def hacer_algo(&)\n                  ^\n(irb):2: syntax error, unexpected ')'\n    hace_algo_mas(&)\n                   ^\n(irb):5: syntax error, unexpected `end', expecting end-of-input",
     "output_type": "error",
     "traceback": [
      "\u001b[31mSyntaxError\u001b[0m: (irb):1: syntax error, unexpected ')', expecting local variable or method\n  def hacer_algo(&)\n                  ^\n(irb):2: syntax error, unexpected ')'\n    hace_algo_mas(&)\n                   ^\n(irb):5: syntax error, unexpected `end', expecting end-of-input"
     ]
    }
   ],
   "source": [
    "class Hijo < Padre\n",
    "  def hacer_algo(&)\n",
    "    hace_algo_mas(&)\n",
    "    super\n",
    "  end\n",
    "end"
   ]
  },
  {
   "cell_type": "markdown",
   "id": "47213553",
   "metadata": {},
   "source": [
    "Combinando todos estos mecanismos, si solo deseas transferir todos los argumentos de un método a un método diferente, entonces `def(*args, **kwargs, &block)` es una forma incómoda de reunir todos los argumentos. Ruby tiene una forma más sencilla."
   ]
  },
  {
   "cell_type": "code",
   "execution_count": 50,
   "id": "5070769b",
   "metadata": {},
   "outputs": [
    {
     "data": {
      "text/plain": [
       ":hacer_algo"
      ]
     },
     "execution_count": 50,
     "metadata": {},
     "output_type": "execute_result"
    }
   ],
   "source": [
    "class Cosas\n",
    "  def hacer_algo(...)\n",
    "    hace_algo_mas(...)\n",
    "  end\n",
    "end"
   ]
  },
  {
   "cell_type": "markdown",
   "id": "27502b79",
   "metadata": {},
   "source": [
    "La sintaxis de triple punto es una forma anónima de pasar todos los argumentos de un método a otro diferente."
   ]
  },
  {
   "cell_type": "markdown",
   "id": "c204ec09",
   "metadata": {},
   "source": [
    "### Modo poético\n",
    "\n",
    "Un método se define con `def nombre_metodo(arg1,arg2)` y termina con `end`; todas las sentencias entre medias corresponden a la definición del método. En Ruby, toda expresión tiene un valor, por ejemplo, el valor de una asignación es el valor de su lado derecho, así que el valor de `x=5` es `5` y si un método no incluye un `return(algo)` explícitamente, lo que se devuelve es el valor de la última expresión del método. \n",
    "\n",
    "El siguiente método trivial devuelve `5`:"
   ]
  },
  {
   "cell_type": "code",
   "execution_count": 51,
   "id": "d828dae7",
   "metadata": {},
   "outputs": [
    {
     "data": {
      "text/plain": [
       ":trivial_method"
      ]
     },
     "execution_count": 51,
     "metadata": {},
     "output_type": "execute_result"
    }
   ],
   "source": [
    "def trivial_method    # sin argumentps; se puede usar trivial_method()\n",
    "  x = 5\n",
    "end\n",
    "#trivial_method"
   ]
  },
  {
   "cell_type": "markdown",
   "id": "55d0e7c9",
   "metadata": {},
   "source": [
    "La variable `x` en el ejemplo es una variable local; su ámbito se limita al bloque donde está definida, en este caso al método, y se considera indefinida fuera de ese método. En otras palabras, Ruby usa ámbito léxico para variables locales. \n",
    "\n",
    "Vemos cómo las variables de clase y de instancia son alternativas a las variables locales.\n",
    "\n",
    "\n",
    "En Ruby, una expresión idiomática importante es la conocida como **modo poético**: la habilidad de omitir paréntesis y llaves cuando el análisis sintáctico no va a ser ambiguo. La mayoría de las veces los programadores en Ruby pueden omitir los paréntesis que rodean a los argumentos en la llamada a un método, y omitir llaves cuando el último argumento en la llamada a un método es una hash. \n",
    "\n",
    "Dada esta característica, las siguientes dos llamadas a método son equivalentes, dado el método `link_to` (que  que toma un argumento de tipo cadena de caracteres y un argumento de tipo hash:"
   ]
  },
  {
   "cell_type": "code",
   "execution_count": null,
   "id": "e1744790",
   "metadata": {},
   "outputs": [],
   "source": [
    "#link_to('Edit', {:controller => 'students', :action => 'edit'})\n",
    "#link_to 'Edit',  :controller => 'students', :action => 'edit'"
   ]
  },
  {
   "cell_type": "markdown",
   "id": "a6db1f93",
   "metadata": {},
   "source": [
    "Aunque los paréntesis alrededor de los argumentos de un método son opcionales, tanto en la definición del método como cuando es invocado, el número de argumentos sí importa, y se lanza una excepción si se llama a un método con un número incorrecto de argumentos. \n",
    "\n",
    "El siguiente extracto de código muestra expresiones idiomáticas que puede usar cuando necesite mayor flexibilidad. El primero es hacer que el último argumento sea una hash y darle el valor `{}` por defecto (hash vacía). El segundo es usar un asterisco `(*)`, que recoge cualquier argumento adicional en un arreglo. \n",
    "\n",
    "Como con muchas expresiones idiomáticas en Ruby, la elección correcta es aquella que ofrece el código más legible."
   ]
  },
  {
   "cell_type": "code",
   "execution_count": 59,
   "id": "2d0db661",
   "metadata": {},
   "outputs": [
    {
     "name": "stdout",
     "output_type": "stream",
     "text": [
      "f1\n",
      "nil\n"
     ]
    }
   ],
   "source": [
    "# \n",
    "def metodo1(required_arg, args={})\n",
    "  #do_fancy_stuff if args[:fancy]\n",
    "  required_arg if args[:fancy]\n",
    "end\n",
    "\n",
    "p metodo1 \"f1\",:fancy => true # => args={:fancy => true}\n",
    "p metodo1 \"f1\"                # => args={}\n",
    "\n",
    "# Otro forma\n",
    "def metodo1(required_arg, *args)\n",
    "  # args es un arreglo de extra args, tal vez vacio\n",
    "end\n",
    "\n",
    "metodo1 \"f1\",\"bar\",:fancy => true # => args=[\"bar\",{:fancy=>true}]\n",
    "metodo1 \"foo\"                      # => args=[]"
   ]
  },
  {
   "cell_type": "markdown",
   "id": "3ac9e861",
   "metadata": {},
   "source": [
    "### Deficiencias de POO\n",
    "\n",
    "Las deficiencias de la programación orientada a objetos son conceptuales, estilísticas y arquitectónicas.  Además, el diseño orientado a objetos puede ser detallado.  Los programas frecuentemente serán más grandes de lo que nosotros, como programadores, pensábamos originalmente. \n",
    "\n",
    "En consecuencia, la eficiencia y el rendimiento del programa pueden verse afectados debido a su propio tamaño y arquitectura. Incluso, la herencia, una de las características que definen la programación orientada a objetos, tiene sus deficiencias en ciertos casos extremos en los que un miembro de una familia de clases tiene o carece de ciertos atributos comunes a su propia jerarquía, pero que comparte con otra clase no relacionada.\n",
    "\n",
    "Afortunadamente, existen estrategias y características que se pueden utilizar para reducir el tamaño del programa, reducir la repetición de código repetitivo y contener la lógica de los componentes. "
   ]
  },
  {
   "cell_type": "markdown",
   "id": "4c8f05eb",
   "metadata": {},
   "source": [
    "### Proc\n",
    "\n",
    "Un proc es un objeto que encapsula un bloque y por tanto aumentan la modularidad del código y reducen la repetición. \n",
    "\n",
    "Los procs se pueden crear de varias maneras, nos centraremos en la sintaxis del constructor de la clase `Proc`. Este código es similar a otros constructores, sin embargo, ten en cuenta el uso de llaves que producen un tipo de datos Proc, como se muestra a continuación:"
   ]
  },
  {
   "cell_type": "code",
   "execution_count": 60,
   "id": "1971bf27",
   "metadata": {},
   "outputs": [
    {
     "name": "stdout",
     "output_type": "stream",
     "text": [
      "#<Proc:0x000055c46334dbb8 (irb):0>\n"
     ]
    }
   ],
   "source": [
    "x = Proc.new {}\n",
    "puts x.inspect"
   ]
  },
  {
   "cell_type": "markdown",
   "id": "48ef69bc",
   "metadata": {},
   "source": [
    "Una forma de utilizar `procs` es sustituir bloques de código pequeños y repetitivos. Por ejemplo, si tienes un objeto en un programa y tiene que iterar a través del objeto para realizar una tarea repetitiva, podría usar un proceso para hacer que su código sea más DRY:\n"
   ]
  },
  {
   "cell_type": "code",
   "execution_count": null,
   "id": "5f05529d",
   "metadata": {},
   "outputs": [],
   "source": [
    "# Completa"
   ]
  },
  {
   "cell_type": "markdown",
   "id": "cfecca30",
   "metadata": {},
   "source": [
    "En este caso, la tarea repetitiva fue multiplicar el número en el arreglo por 4. Ten en cuenta el uso del signo  '&', que te permite a Ruby saber que 'x' no es una variable cualquiera, sino una especial. Aquí hay otro ejemplo a continuación:"
   ]
  },
  {
   "cell_type": "code",
   "execution_count": 61,
   "id": "500e61ce",
   "metadata": {},
   "outputs": [
    {
     "name": "stdout",
     "output_type": "stream",
     "text": [
      "elementary\n",
      "computer\n",
      "independence\n"
     ]
    }
   ],
   "source": [
    "x = Proc.new { |word| word.length > 6 && word.length % 2 == 0 }\n",
    "long_words = ['apple', 'wisdom', 'anonymous', 'elementary', 'monitor', 'computer', 'available', 'independence']\n",
    "puts long_words.select &x"
   ]
  },
  {
   "cell_type": "markdown",
   "id": "f1f33703",
   "metadata": {},
   "source": [
    "En el ejemplo anterior, el `proc` se utiliza para sustituir el bloque esperado por el método `.each`. Además, también puedes pasar `procs`  a métodos e invocarlos usando su método `.call`:"
   ]
  },
  {
   "cell_type": "code",
   "execution_count": null,
   "id": "68c1b9cf",
   "metadata": {},
   "outputs": [],
   "source": [
    "# Completa"
   ]
  },
  {
   "cell_type": "markdown",
   "id": "563e25fe",
   "metadata": {},
   "source": [
    "Además, puede crear un método personalizado con funcionalidad de bloque personalizado, como se detalla a continuación:"
   ]
  },
  {
   "cell_type": "code",
   "execution_count": null,
   "id": "93410fa2",
   "metadata": {},
   "outputs": [],
   "source": [
    "## Completa"
   ]
  },
  {
   "cell_type": "markdown",
   "id": "b4537cc6",
   "metadata": {},
   "source": [
    "Y si se siente peligroso, los `procs` pueden incluso usarse para cortocircuitar algunas conversiones de tipos de datos y la lógica del iterador. Según la documentación de Ruby, esto se debe a que \"cualquier objeto que implemente el método `.to_proc` puede ser convertido en un `proc` por el operador '&' y, por lo tanto, puede ser consumido por iteradores\". De las clases principales de Ruby, Símbolos, Métodos y Hashes implementan el método `.to_proc`.\n",
    "\n",
    "Revisa: https://docs.ruby-lang.org/en/3.2/Proc.html"
   ]
  },
  {
   "cell_type": "code",
   "execution_count": 62,
   "id": "368c7794",
   "metadata": {},
   "outputs": [
    {
     "name": "stdout",
     "output_type": "stream",
     "text": [
      "1\n",
      "2\n",
      "3\n",
      "DANGER'S\n",
      "MY\n",
      "MIDDLE\n",
      "NAME\n"
     ]
    }
   ],
   "source": [
    "arr = [\"1\", \"2\", \"3\"]\n",
    "puts arr.map &:to_i #=> 1, 2, 3\n",
    "arr = [\"Danger's\", \"my\", \"middle\", \"name\"]\n",
    "puts arr.map &:upcase "
   ]
  },
  {
   "cell_type": "markdown",
   "id": "ca53793f",
   "metadata": {},
   "source": [
    "Los procs se pueden utilizar para simplificar el código a nivel de bloque y utilizar variables con un alcance local. Aún más importante, los `procs` son la implementación de [clousure](https://www.section.io/engineering-education/understanding-closures-in-ruby/) de Ruby que les permiten recordar el contexto en el que fueron creados. \n"
   ]
  },
  {
   "cell_type": "markdown",
   "id": "a52dcbda",
   "metadata": {},
   "source": [
    "### Módulos \n",
    "\n",
    "Los módulos son una excelente manera de proporcionar estado y comportamiento adicionales a las clases sin tener que preocuparse por la cadena de herencia y sobrescribir otros métodos. Los métodos proporcionan acceso a métodos y constantes definidas dentro de la declaración del módulo. \n",
    "\n",
    "Los módulos brindan soporte tanto para métodos a nivel de instancia como para métodos a nivel de módulo, pero las clases que incluyen o usan el comportamiento de los módulos solo tienen acceso a los métodos a nivel de instancia. Por el contrario, se puede acceder a los métodos a nivel de módulo directamente en el objeto `Module`.\n",
    "\n",
    "Si bien los beneficios de la herencia orientada a objetos están bien documentados, también cabe señalar que existen algunos límites debido a la verticalidad de la cadena de herencia. De hecho, las clases heredan de sus clases antecesoras y replican la funcionalidad en sus clases hijas, pero no tienen una forma nativa de compartir estado y comportamiento con clases no relacionadas.  Envolver el comportamiento de esta manera y compartirlo entre clases dispares es un uso común de los módulos.\n"
   ]
  },
  {
   "cell_type": "code",
   "execution_count": null,
   "id": "099b9823",
   "metadata": {},
   "outputs": [],
   "source": [
    "class Superhero\n",
    " # completa"
   ]
  },
  {
   "cell_type": "markdown",
   "id": "e3b1d430",
   "metadata": {},
   "source": [
    "Genial, llegamos a los superhéroes. A continuación, equipemos algunos de ellos y creemos un módulo de Industrias Stark que solo algunos superhéroes podrán usar:"
   ]
  },
  {
   "cell_type": "code",
   "execution_count": null,
   "id": "6b8db8a1",
   "metadata": {},
   "outputs": [],
   "source": [
    "module Stark\n",
    " # Completa"
   ]
  },
  {
   "cell_type": "markdown",
   "id": "6f4c399a",
   "metadata": {},
   "source": [
    "Ahora es el momento de crear esos superhéroes y mostrar cómo un módulo puede proporcionar acceso a comportamientos fuera de la herencia basada en clases.\n"
   ]
  },
  {
   "cell_type": "code",
   "execution_count": null,
   "id": "0be8de38",
   "metadata": {},
   "outputs": [],
   "source": [
    "class Spiderman < Superhero   \n",
    "  include Stark\n",
    "end\n",
    "class Ironman < Superhero\n",
    "  include Stark\n",
    "end\n",
    "\n",
    "spidey = Spiderman.new \n",
    "iron = Ironman.new\n",
    "# Completa"
   ]
  },
  {
   "cell_type": "code",
   "execution_count": null,
   "id": "f5247c00",
   "metadata": {},
   "outputs": [],
   "source": [
    "## Completa"
   ]
  },
  {
   "cell_type": "markdown",
   "id": "b2a1d5fa",
   "metadata": {},
   "source": [
    "A diferencia de la sintaxis de herencia de clases,  los módulos se importan dentro del cuerpo de la clase utilizando la palabra clave `include`. Los módulos se convierten en una forma práctica de compartir comportamientos entre clases para superar las restricciones de la herencia.\n"
   ]
  },
  {
   "cell_type": "markdown",
   "id": "a6dfb93e",
   "metadata": {},
   "source": [
    "#### Mixins\n",
    "\n",
    "Un mixin es simplemente agregar acceso a múltiples módulos dentro de `Class`. Dado que Ruby no admite herencia múltiple, podemos usar varios módulos para mezclarlos en -léase Mixin- una subclase. Funcionalmente, los mixins proporcionan la extensibilidad y modularidad que la herencia múltiple ofrece a otros lenguajes. Por lo tanto, si bien Ruby no proporciona todas las características de programación orientada a objetos que implementan otros lenguajes, los mixins logran esta funcionalidad y son un ejemplo clásico de duck typing dentro de Ruby, que vimos anteriormente.\n",
    "\n",
    "Hay varios métodos que no son parte de la clase `Array` de Ruby. De hecho, ni siquiera forman parte de ninguna superclase de la que hereden `Array` y otros tipos de colecciones. En cambio, aprovechan un mecanismo de reutilización aún más poderoso: lo que ya definimos un mix-ins, una colección con nombre de métodos relacionados que se pueden agregar a cualquier clase que cumpla algún \"contrato\" con los métodos mix-ins.\n",
    "\n",
    "\n",
    "La clase que implementa algún conjunto de comportamientos característico de otra clase, posiblemente usando algún mixin, se suele decir que `suena como` la clase a la que se parece. El esquema de Ruby para permitir un mixin sin comprobación estática de tipos se le suele denominar tipado dinámico."
   ]
  },
  {
   "cell_type": "code",
   "execution_count": null,
   "id": "288604a5",
   "metadata": {},
   "outputs": [],
   "source": []
  }
 ],
 "metadata": {
  "kernelspec": {
   "display_name": "Ruby 2.7.0",
   "language": "ruby",
   "name": "ruby"
  },
  "language_info": {
   "file_extension": ".rb",
   "mimetype": "application/x-ruby",
   "name": "ruby",
   "version": "2.7.0"
  }
 },
 "nbformat": 4,
 "nbformat_minor": 5
}
