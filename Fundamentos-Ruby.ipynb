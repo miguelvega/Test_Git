{
 "cells": [
  {
   "cell_type": "markdown",
   "id": "76e8629a",
   "metadata": {},
   "source": [
    "## Aprendiendo un nuevo lenguaje\n",
    "\n",
    "Este cuaderno introduce las equivalencias en Ruby de técnicas orientadas a objetos de otros lenguajes como Java y otros mecanismos de Ruby que no tienen equivalencia en Java y que ayudan con la reutilización y  el desarrollo DRY.  \n",
    "\n",
    "\n",
    "Para los conceptos básicos de Ruby puedes revisar y terminar el libro [Learn Ruby the Hard Way](https://learnrubythehardway.org/book/)."
   ]
  },
  {
   "cell_type": "markdown",
   "id": "925ad93e",
   "metadata": {},
   "source": [
    "\n",
    "### Principios de Ruby\n",
    "\n",
    "Dos principios te ayudarán a aprender rápidamente a leer y escribir Ruby:  \n",
    "\n",
    " - Todo es un objeto, incluso un número entero, y literalmente ocurre que cada operación es una llamada a un método en algún objeto y cada llamada a un método devuelve un valor.  \n",
    " - Al igual que Java y Python, Ruby tiene clases convencionales; pero a diferencia de los atributos públicos de Java o las variables de instancia de Python, sólo los métodos de instancia de una clase (no sus variables de instancia) son visibles fuera de la clase. \n",
    " \n",
    " \n"
   ]
  },
  {
   "cell_type": "markdown",
   "id": "10297456",
   "metadata": {},
   "source": [
    "### Expresiones Booleanas\n",
    "\n",
    "Al aprender cualquier lenguaje nuevo, una molestia  relacionada con los tipos es tener que memorizar cómo el lenguaje maneja la evaluación booleana de expresiones no Booleanas. Algunos lenguajes tienen tipos y valores booleanos especiales, como `True` y `False` de Python (que tienen un tipo especial `Bool`), `true` y `false` de JavaScript (tipo booleano) y `true` y `false` de Ruby (`TrueClass` y `FalseClass` respectivamente). \n",
    "\n",
    "Para evitar confusión con estos literales Booleanos reales, los desarrolladores suelen decir `verdadero(truthy)` o `falso(falsy)` para describir el valor de una expresión no Booleana y cuando se usa en un condicional de la forma `if (e)....`. Desafortunadamente, las reglas para la veracidad son diferentes. y en gran medida arbitraria en cada lenguaje. \n",
    "\n",
    "En Ruby, los literales `false` y `nil` son falsos, pero todos los demás valores, incluido el número cero, la cadena vacía, el arreglo vacía, etc., son verdaderos. "
   ]
  },
  {
   "cell_type": "markdown",
   "id": "7a3c1771",
   "metadata": {},
   "source": [
    "### Arreglos, hashes y Enumerables"
   ]
  },
  {
   "cell_type": "markdown",
   "id": "330819be",
   "metadata": {},
   "source": [
    "Un arreglo es una estructura de datos que representa una lista de valores, llamados elementos. Las arreglos te permiten almacenar múltiples valores en una sola variable. \n",
    "\n",
    "En Ruby, los arreglos pueden contener cualquier tipo de datos, incluidos números, cadenas y otros objetos de Ruby. Esto puede condensar y organizar tu código, haciéndolo más legible y fácil de mantener. Todas los arreglos son objetos con sus propios métodos a los que puedes llamar, lo que proporciona una forma estandarizada de trabajar con conjuntos de datos.\n"
   ]
  },
  {
   "cell_type": "code",
   "execution_count": 2,
   "id": "6823d68b",
   "metadata": {},
   "outputs": [
    {
     "name": "stdout",
     "output_type": "stream",
     "text": [
      "[]\n"
     ]
    },
    {
     "data": {
      "text/plain": [
       "[\"Naranja\", \"Manzana\", \"Banana\"]"
      ]
     },
     "execution_count": 2,
     "metadata": {},
     "output_type": "execute_result"
    }
   ],
   "source": [
    "# Completar\n",
    "# Crear un arreglo vacío\n",
    "mi_arreglo = []\n",
    "p mi_arreglo\n",
    "# Agregar elementos al arreglo\n",
    "mi_arreglo << \"Manzana\"\n",
    "mi_arreglo.push(\"Banana\")\n",
    "mi_arreglo.unshift(\"Naranja\")"
   ]
  },
  {
   "cell_type": "code",
   "execution_count": 5,
   "id": "e1dee108-96c3-4cb0-b6bc-51c3cb473620",
   "metadata": {},
   "outputs": [
    {
     "name": "stdout",
     "output_type": "stream",
     "text": [
      "\"Manzana\"\n",
      "\"Fresa\"\n"
     ]
    },
    {
     "data": {
      "text/plain": [
       "[\"Banana\", \"Naranja\", \"Fresa\"]"
      ]
     },
     "execution_count": 5,
     "metadata": {},
     "output_type": "execute_result"
    }
   ],
   "source": [
    "frutas = [\"Manzana\", \"Banana\", \"Naranja\", \"Fresa\"]\n",
    "\n",
    "# Acceder al primer elemento (índice 0)\n",
    "primer_fruta = frutas[0]\n",
    "p primer_fruta\n",
    "# Acceder al último elemento\n",
    "ultima_fruta = frutas[-1]\n",
    "p ultima_fruta\n",
    "# Acceder a un rango de elementos\n",
    "primeras_dos_frutas = frutas[1..3]"
   ]
  },
  {
   "cell_type": "code",
   "execution_count": 8,
   "id": "b2adb61e-4494-4d3d-b66b-de74f7ab9889",
   "metadata": {},
   "outputs": [
    {
     "data": {
      "text/plain": [
       "[\"Verde\", \"Azul\"]"
      ]
     },
     "execution_count": 8,
     "metadata": {},
     "output_type": "execute_result"
    }
   ],
   "source": [
    "colores = [\"Rojo\", \"Verde\", \"Azul\", \"Amarillo\"]\n",
    "\n",
    "# Eliminar el último elemento\n",
    "ultimo_color = colores.pop\n",
    "\n",
    "# Eliminar el primer elemento\n",
    "primer_color = colores.shift\n",
    "\n",
    "colores"
   ]
  },
  {
   "cell_type": "code",
   "execution_count": 9,
   "id": "9617ab14-a154-48ab-ab4e-9721d530a641",
   "metadata": {},
   "outputs": [
    {
     "name": "stdout",
     "output_type": "stream",
     "text": [
      "2\n",
      "4\n",
      "6\n",
      "8\n",
      "10\n"
     ]
    },
    {
     "data": {
      "text/plain": [
       "[1, 2, 3, 4, 5]"
      ]
     },
     "execution_count": 9,
     "metadata": {},
     "output_type": "execute_result"
    }
   ],
   "source": [
    "números = [1, 2, 3, 4, 5]\n",
    "\n",
    "# Iterar usando un bucle 'each'\n",
    "números.each do |n|\n",
    "  puts n * 2\n",
    "end"
   ]
  },
  {
   "cell_type": "code",
   "execution_count": 10,
   "id": "39b6a9a4-6de6-45ce-b66d-b8eb231b2aad",
   "metadata": {},
   "outputs": [
    {
     "data": {
      "text/plain": [
       "[42, 50]"
      ]
     },
     "execution_count": 10,
     "metadata": {},
     "output_type": "execute_result"
    }
   ],
   "source": [
    "edades = [25, 30, 18, 42, 15, 50]\n",
    "\n",
    "# Filtrar elementos mayores de 30\n",
    "mayores_de_30 = edades.select { |edad| edad > 30 }"
   ]
  },
  {
   "cell_type": "markdown",
   "id": "5c960759",
   "metadata": {},
   "source": [
    "Un hash no es más que una colección de datos en donde cada valor está asociado a una llave. Imagina un diccionario, en donde las palabras son las llaves y las definiciones son los valores."
   ]
  },
  {
   "cell_type": "code",
   "execution_count": 12,
   "id": "69868d98",
   "metadata": {},
   "outputs": [
    {
     "name": "stdout",
     "output_type": "stream",
     "text": [
      "\"Juan\"\n"
     ]
    },
    {
     "data": {
      "text/plain": [
       "30"
      ]
     },
     "execution_count": 12,
     "metadata": {},
     "output_type": "execute_result"
    }
   ],
   "source": [
    "# Completar\n",
    "# Crear un hash con datos\n",
    "persona = {\n",
    "  \"nombre\" => \"Juan\",\n",
    "  \"edad\" => 30,\n",
    "  \"ciudad\" => \"Madrid\"\n",
    "}\n",
    "\n",
    "# Acceder a un valor por clave\n",
    "nombre = persona[\"nombre\"]\n",
    "p nombre\n",
    "edad = persona[\"edad\"]\n"
   ]
  },
  {
   "cell_type": "code",
   "execution_count": 15,
   "id": "c683c787-676a-456a-adec-d9f70c2513b8",
   "metadata": {},
   "outputs": [
    {
     "name": "stdout",
     "output_type": "stream",
     "text": [
      "{\"marca\"=>\"Toyota\", \"modelo\"=>\"Corolla\"}\n"
     ]
    },
    {
     "data": {
      "text/plain": [
       "{\"marca\"=>\"Toyota\", \"modelo\"=>\"Camry\"}"
      ]
     },
     "execution_count": 15,
     "metadata": {},
     "output_type": "execute_result"
    }
   ],
   "source": [
    "# Crear un hash vacío\n",
    "coche = {}\n",
    "\n",
    "# Agregar valores al hash\n",
    "coche[\"marca\"] = \"Toyota\"\n",
    "coche[\"modelo\"] = \"Corolla\"\n",
    "p coche \n",
    "\n",
    "# Modificar un valor existente\n",
    "coche[\"modelo\"] = \"Camry\"\n",
    "\n",
    "coche"
   ]
  },
  {
   "cell_type": "code",
   "execution_count": 17,
   "id": "8b1fbc7f-7593-435a-b734-dc3f75504855",
   "metadata": {},
   "outputs": [
    {
     "data": {
      "text/plain": [
       "{\"manzana\"=>3, \"naranja\"=>5}"
      ]
     },
     "execution_count": 17,
     "metadata": {},
     "output_type": "execute_result"
    }
   ],
   "source": [
    "# Crear un hash con datos\n",
    "frutas = {\n",
    "  \"manzana\" => 3,\n",
    "  \"plátano\" => 2,\n",
    "  \"naranja\" => 5\n",
    "}\n",
    "\n",
    "# Eliminar un par clave-valor\n",
    "frutas.delete(\"plátano\")\n",
    "\n",
    "frutas\n"
   ]
  },
  {
   "cell_type": "code",
   "execution_count": 18,
   "id": "3a541337-88b3-423c-9a21-0b711afaf720",
   "metadata": {},
   "outputs": [
    {
     "name": "stdout",
     "output_type": "stream",
     "text": [
      "Juan: 85\n",
      "Ana: 92\n",
      "Luis: 78\n"
     ]
    },
    {
     "data": {
      "text/plain": [
       "{\"Juan\"=>85, \"Ana\"=>92, \"Luis\"=>78}"
      ]
     },
     "execution_count": 18,
     "metadata": {},
     "output_type": "execute_result"
    }
   ],
   "source": [
    "# Crear un hash con datos\n",
    "puntuaciones = {\n",
    "  \"Juan\" => 85,\n",
    "  \"Ana\" => 92,\n",
    "  \"Luis\" => 78\n",
    "}\n",
    "\n",
    "# Iterar sobre el hash y mostrar las puntuaciones\n",
    "puntuaciones.each do |nombre, puntuacion|\n",
    "  puts \"#{nombre}: #{puntuacion}\"\n",
    "end\n"
   ]
  },
  {
   "cell_type": "code",
   "execution_count": 19,
   "id": "1b20275f-eada-4fc0-bdea-cfc6ed387f57",
   "metadata": {},
   "outputs": [
    {
     "data": {
      "text/plain": [
       "true"
      ]
     },
     "execution_count": 19,
     "metadata": {},
     "output_type": "execute_result"
    }
   ],
   "source": [
    "# Crear un hash con datos\n",
    "colores = {\n",
    "  \"rojo\" => \"FF0000\",\n",
    "  \"verde\" => \"00FF00\",\n",
    "  \"azul\" => \"0000FF\"\n",
    "}\n",
    "\n",
    "# Verificar si una clave existe\n",
    "tiene_rojo = colores.key?(\"rojo\")\n"
   ]
  },
  {
   "cell_type": "markdown",
   "id": "2b6f3c50",
   "metadata": {},
   "source": [
    "Los enumerables son un conjunto de métodos integrados convenientes en Ruby que se incluyen como parte tanto de arreglos como de hashes. Hay algunos patrones de iteración como transformar, buscar y seleccionar subconjuntos de elementos en sus colecciones. \n",
    "\n",
    "Los enumerables fueron diseñados para hacer que la implementación de estos patrones de iteración sea mucho, mucho más fácil.\n",
    "\n",
    "Revisaremos los métodos enumerables que utilizará con más frecuencia."
   ]
  },
  {
   "cell_type": "markdown",
   "id": "e81aaa7c",
   "metadata": {},
   "source": [
    "**El metodo each**\n",
    "\n",
    "\n",
    "Llamar a `#each` en un arreglo iterará a través de ese arreglo y generará cada elemento en un bloque de código, donde se puede realizar una tarea:"
   ]
  },
  {
   "cell_type": "code",
   "execution_count": 20,
   "id": "e17aabd3",
   "metadata": {
    "scrolled": true
   },
   "outputs": [
    {
     "name": "stdout",
     "output_type": "stream",
     "text": [
      "Hola, Sharon\n",
      "Hola, Leo\n",
      "Hola, Leila\n",
      "Hola, Brian\n",
      "Hola, Arun\n"
     ]
    },
    {
     "data": {
      "text/plain": [
       "[\"Sharon\", \"Leo\", \"Leila\", \"Brian\", \"Arun\"]"
      ]
     },
     "execution_count": 20,
     "metadata": {},
     "output_type": "execute_result"
    }
   ],
   "source": [
    "amigos = ['Sharon', 'Leo', 'Leila', 'Brian', 'Arun']\n",
    "\n",
    "amigos.each { |amigo| puts \"Hola, \" + amigo }"
   ]
  },
  {
   "cell_type": "markdown",
   "id": "5c90a271",
   "metadata": {},
   "source": [
    "Analicemos esta sintaxis:\n",
    "\n",
    "- amigos es el arreglo que contiene cadenas de los nombres de tus amigos.\n",
    "- `each` es el método enumerable al que estás llamando en el arreglo de tus amigos.\n",
    "- `{ |amigo| puts \"Hola, \" + amigo }` es un bloque y el código dentro de este bloque se ejecuta para cada elemento del arreglo. Como tenemos 5 amigos en el arreglo, este bloque se ejecutará 5 veces, una vez con cada uno de los 5 elementos.\n",
    "- Dentro del bloque, notarás que tenemos `|amigo|`, que se conoce como variable de bloque. Este es el elemento de tu arreglo sobre el que el bloque está iterando actualmente. Puedes utilizar cualquier nombre de variable que te resulte útil aquí.  En la primera iteración, el valor de `|amigo|` será 'Sharon', en la segunda iteración, su valor será 'Leo', en el tercero, 'Leila' y así sucesivamente hasta llegar al final del arreglo.\n",
    "\n",
    "¿Qué pasa si el bloque que deseas pasar a un método requiere más lógica de la que cabe en una línea? Comienza a volverse menos legible y parece difícil de manejar. Para bloques de varias líneas, la mejor práctica comúnmente aceptada es cambiar la sintaxis para usar `do...end` en lugar de `{...}`:"
   ]
  },
  {
   "cell_type": "code",
   "execution_count": 21,
   "id": "81c791ab",
   "metadata": {},
   "outputs": [
    {
     "name": "stdout",
     "output_type": "stream",
     "text": [
      "El nuevo numero es 2.\n",
      "El nuevo numero es 4.\n"
     ]
    },
    {
     "data": {
      "text/plain": [
       "[1, 2]"
      ]
     },
     "execution_count": 21,
     "metadata": {},
     "output_type": "execute_result"
    }
   ],
   "source": [
    "arreglo1 = [1, 2]\n",
    "arreglo1.each do |num|\n",
    "  num *= 2\n",
    "  puts \"El nuevo numero es #{num}.\"\n",
    "end"
   ]
  },
  {
   "cell_type": "markdown",
   "id": "61cab541",
   "metadata": {},
   "source": [
    "`#each` también funciona para hashes con un poco de funcionalidad adicional. De forma predeterminada, cada iteración producirá tanto la clave como el valor individualmente o juntos (como un arreglo) para el bloque, dependiendo de cómo definas la variable de tu bloque:\n"
   ]
  },
  {
   "cell_type": "code",
   "execution_count": 22,
   "id": "190e3e40",
   "metadata": {
    "scrolled": true
   },
   "outputs": [
    {
     "name": "stdout",
     "output_type": "stream",
     "text": [
      "uno es 1\n",
      "dos es 2\n"
     ]
    },
    {
     "data": {
      "text/plain": [
       "{\"uno\"=>1, \"dos\"=>2}"
      ]
     },
     "execution_count": 22,
     "metadata": {},
     "output_type": "execute_result"
    }
   ],
   "source": [
    "hash1 = { \"uno\" => 1, \"dos\" => 2 }\n",
    "\n",
    "hash1.each { |clave, valor| puts \"#{clave} es #{valor}\" }\n"
   ]
  },
  {
   "cell_type": "code",
   "execution_count": 23,
   "id": "4e34b0eb",
   "metadata": {},
   "outputs": [
    {
     "name": "stdout",
     "output_type": "stream",
     "text": [
      "el par es [\"uno\", 1]\n",
      "el par es [\"dos\", 2]\n"
     ]
    },
    {
     "data": {
      "text/plain": [
       "{\"uno\"=>1, \"dos\"=>2}"
      ]
     },
     "execution_count": 23,
     "metadata": {},
     "output_type": "execute_result"
    }
   ],
   "source": [
    "hash1.each { |par| puts \"el par es #{par}\" }"
   ]
  },
  {
   "cell_type": "markdown",
   "id": "6091a4d0",
   "metadata": {},
   "source": [
    "Es posible que hayas notado en los ejemplos de código anteriores que `#each` devuelve el arreglo o hash original independientemente de lo que suceda dentro del bloque de código. Esto es algo importante a tener en cuenta al depurar el código, ya que puede generar cierta confusión.\n",
    "\n",
    "Tome este código como ejemplo:\n"
   ]
  },
  {
   "cell_type": "code",
   "execution_count": 24,
   "id": "3c008676",
   "metadata": {},
   "outputs": [
    {
     "data": {
      "text/plain": [
       "[\"Sharon\", \"Leo\", \"Leila\", \"Brian\", \"Arun\"]"
      ]
     },
     "execution_count": 24,
     "metadata": {},
     "output_type": "execute_result"
    }
   ],
   "source": [
    "amigos = ['Sharon', 'Leo', 'Leila', 'Brian', 'Arun']\n",
    "\n",
    "amigos.each { |amigo| amigo.upcase }\n"
   ]
  },
  {
   "cell_type": "markdown",
   "id": "6526349e",
   "metadata": {},
   "source": [
    "Podrías esperar que esto devuelva `['SHARON', 'LEO', 'LEILA', 'BRIAN', 'ARUN']`, pero no. En realidad, devuelve el arreglo original a la que llamó `#each`. ¡Cuidado allí!."
   ]
  },
  {
   "cell_type": "markdown",
   "id": "2892def4",
   "metadata": {},
   "source": [
    "**El método map**\n",
    "\n",
    "Veamos el caso anterior otra vez:"
   ]
  },
  {
   "cell_type": "code",
   "execution_count": 1,
   "id": "8088226b",
   "metadata": {},
   "outputs": [
    {
     "data": {
      "text/plain": [
       "[\"Sharon\", \"Leo\", \"Leila\", \"Brian\", \"Arun\"]"
      ]
     },
     "execution_count": 1,
     "metadata": {},
     "output_type": "execute_result"
    }
   ],
   "source": [
    "amigos = ['Sharon', 'Leo', 'Leila', 'Brian', 'Arun']\n",
    "\n",
    "amigos.each { |amigo| amigo.upcase }\n"
   ]
  },
  {
   "cell_type": "markdown",
   "id": "cd9cec67",
   "metadata": {},
   "source": [
    "Como podemos ver, `#each` devuelve el arreglo original, pero eso no es lo que queremos. \n",
    "\n",
    "Modifiquemos el código `#each` para que funcione:\n"
   ]
  },
  {
   "cell_type": "code",
   "execution_count": 2,
   "id": "dee6c617",
   "metadata": {},
   "outputs": [
    {
     "data": {
      "text/plain": [
       "[\"Sharon\", \"Leo\", \"Leila\", \"Brian\", \"Arun\"]"
      ]
     },
     "execution_count": 2,
     "metadata": {},
     "output_type": "execute_result"
    }
   ],
   "source": [
    "amigos = ['Sharon', 'Leo', 'Leila', 'Brian', 'Arun']\n",
    "amigos_mayusculas = []\n",
    "\n",
    "amigos.each { |amigo| amigos_mayusculas.push(amigo.upcase) }"
   ]
  },
  {
   "cell_type": "code",
   "execution_count": 3,
   "id": "8430f2cc",
   "metadata": {},
   "outputs": [
    {
     "data": {
      "text/plain": [
       "[\"SHARON\", \"LEO\", \"LEILA\", \"BRIAN\", \"ARUN\"]"
      ]
     },
     "execution_count": 3,
     "metadata": {},
     "output_type": "execute_result"
    }
   ],
   "source": [
    "amigos_mayusculas"
   ]
  },
  {
   "cell_type": "markdown",
   "id": "4652050c",
   "metadata": {},
   "source": [
    "El método `#map` (también llamado `#collect`) transforma cada elemento de un arreglo de acuerdo con el bloque que le pases y devuelve los elementos transformados en un nuevo arreglo. \n",
    "\n",
    "`#map` puede parecer confuso al principio, pero es extremadamente útil. \n",
    "\n",
    "Analizaremos varios ejemplos y casos de uso que te ayudarán a comprender cómo y cuándo puedes utilizar este poder enumerable para siempre.\n",
    "\n",
    "Primero, usemos `#map` para mejorar el código que transforma los nombres de todos los amigos a mayúsculas:"
   ]
  },
  {
   "cell_type": "code",
   "execution_count": 4,
   "id": "89f5c938",
   "metadata": {},
   "outputs": [
    {
     "data": {
      "text/plain": [
       "[\"SHARON\", \"LEO\", \"LEILA\", \"BRIAN\", \"ARUN\"]"
      ]
     },
     "execution_count": 4,
     "metadata": {},
     "output_type": "execute_result"
    }
   ],
   "source": [
    "amigos = ['Sharon', 'Leo', 'Leila', 'Brian', 'Arun']\n",
    "\n",
    "amigos.map { |amigo| amigo.upcase }"
   ]
  },
  {
   "cell_type": "markdown",
   "id": "db1e7c60",
   "metadata": {},
   "source": [
    "Tal vez hayaa decidido que es hora de poner tus finanzas en orden y quiera deducir los pagos de alquiler de tu salario durante los últimos meses para asegurarse de no haber gastado todo el dinero restante en gastos adicionales. \n"
   ]
  },
  {
   "cell_type": "code",
   "execution_count": null,
   "id": "23ceac88",
   "metadata": {},
   "outputs": [],
   "source": [
    "salarios = [1200, 1500, 1100, 1800]\n",
    "\n",
    "salarios.map { |salario| salario - 700 }"
   ]
  },
  {
   "cell_type": "markdown",
   "id": "1e2d2387",
   "metadata": {},
   "source": [
    "Siempre que quieras devolver una nuevo arreglo con los resultados de ejecutar tu bloque de código, `¡#map` es el método!.\n"
   ]
  },
  {
   "cell_type": "markdown",
   "id": "e2b55228",
   "metadata": {},
   "source": [
    "### Expresiones regulares\n",
    "\n",
    "En Ruby, las expresiones regulares se escriben dentro de las dos barras diagonales /SearchPattern/. Cualquiera que sea su patrón de búsqueda, deberás escribirlo entre dos barras diagonales. Por ejemplo, eche un vistazo al siguiente código.\n"
   ]
  },
  {
   "cell_type": "code",
   "execution_count": 5,
   "id": "dfe71c54",
   "metadata": {},
   "outputs": [
    {
     "name": "stdout",
     "output_type": "stream",
     "text": [
      "Números de teléfono encontrados:\n",
      "123-456-7890\n",
      "555-555-5555\n"
     ]
    }
   ],
   "source": [
    "# Completar\n",
    "texto = \"Mis números de teléfono son 123-456-7890 y 555-555-5555.\"\n",
    "\n",
    "# Buscar números de teléfono en el texto\n",
    "numeros_telefono = texto.scan(/\\d{3}-\\d{3}-\\d{4}/)\n",
    "\n",
    "\n",
    "#El método scan se utiliza para encontrar todas las coincidencias en el texto y las almacena en un arreglo.\n",
    "\n",
    "puts \"Números de teléfono encontrados:\"\n",
    "puts numeros_telefono"
   ]
  },
  {
   "cell_type": "code",
   "execution_count": 48,
   "id": "a7db9937-1418-4adc-b2e9-08d53c6b9fc7",
   "metadata": {},
   "outputs": [
    {
     "name": "stdout",
     "output_type": "stream",
     "text": [
      "La dirección de correo electrónico es válida.\n"
     ]
    }
   ],
   "source": [
    "correo = \"usuario@example.com\"\n",
    "\n",
    "# Validar la dirección de correo electrónico\n",
    "if correo =~ /\\A[\\w+\\-.]+@[a-z\\d\\-.]+\\.[a-z]+\\z/i\n",
    "  puts \"La dirección de correo electrónico es válida.\"\n",
    "else\n",
    "  puts \"La dirección de correo electrónico no es válida.\"\n",
    "end"
   ]
  },
  {
   "cell_type": "markdown",
   "id": "63b843b1",
   "metadata": {},
   "source": [
    "Hay constructores especiales dentro de las expresiones regulares que se pueden usar para compararse con muchos tipos de caracteres, y pueden especificar el número de veces que debe aparecer una coincidencia y si esa coincidencia debe estar “anclada” al principio o al final de la cadena de caracteres. Por ejemplo, a continuación vemos una expresión regular en una línea que coindice con una hora del día, como por ejemplo “8:25pm”: "
   ]
  },
  {
   "cell_type": "code",
   "execution_count": 49,
   "id": "b91ee170",
   "metadata": {},
   "outputs": [
    {
     "data": {
      "text/plain": [
       "/^\\d\\d?:\\d\\d\\s*[ap]m$/i"
      ]
     },
     "execution_count": 49,
     "metadata": {},
     "output_type": "execute_result"
    }
   ],
   "source": [
    "x = \"8:25 PM\"\n",
    "x = /^\\d\\d?:\\d\\d\\s*[ap]m$/i"
   ]
  },
  {
   "cell_type": "markdown",
   "id": "64a8fea6",
   "metadata": {},
   "source": [
    "Esta expresión regular coincide con un dígito al principio de una cadena `(^\\d)`, que opcionalmente puede estar seguido por otro dígito `(\\d?)`, seguido de dos puntos, otros dos dígitos, cero o más espacios `(\\s*)`, una a o una `p`, y una `m` al final de la cadena `(m$)`, y que ignora si está en mayúsculas o no (la `i` tras la barra inclinada). Otra manera de coincidir con uno o más dígitos sería `[0-9][0-9]?` y otra manera de hacer coincidir exactamente dos dígitos sería `[0-9][0-9]`.\n",
    "\n",
    "Ruby permite el uso de paréntesis dentro de las expresiones regulares para capturar la coincidencia de una determinada cadena o subcadenas de caracteres Por ejemplo, ésta es la misma expresión regular pero con tres grupos capturados: "
   ]
  },
  {
   "cell_type": "code",
   "execution_count": 8,
   "id": "7d382928",
   "metadata": {},
   "outputs": [
    {
     "data": {
      "text/plain": [
       "2"
      ]
     },
     "execution_count": 8,
     "metadata": {},
     "output_type": "execute_result"
    }
   ],
   "source": [
    "x = \"8:25 PM\"\n",
    "x =~  /(\\d\\d?):(\\d\\d)\\s*([ap])m$/i"
   ]
  },
  {
   "cell_type": "markdown",
   "id": "71f6c150",
   "metadata": {},
   "source": [
    "La segunda línea intenta ver si la cadena x coincide con la expresión regular. Si coincide, el operador =~ devuelve la posición en la cadena (siendo 0 el primer carácter) en la que se encuentra la coincidencia, la variable global 1 tendrá el valor `\"8\"`, $2 tendrá `\"25\"`, y `3` tendrá \"P\". Estas variables se resetean la próxima vez que compruebe la coincidencia con otra expresión regular. Si no hay coincidencia, =~ devolverá nil. \n",
    "\n",
    "Dense cuenta de que `nil` y `false` no son iguales, pero las dos devuelven false cuando se usan en expresiones condicionales (de hecho, son los únicos dos valores en Ruby que hacen eso). En su modo idiomático, los métodos que son verdaderamente booleanos (es decir, que sólo pueden devolver `true` o `false`) devuelven `false`, mientras que los métodos que devuelven un objeto cuando todo va bien, devuelven `nil` cuando fallan. \n",
    "\n",
    "Finalmente, dese cuenta de que `=~` funciona tanto en cadenas como en objetos de tipo Regexp, así que las siguientes líneas son legales y equivalentes, y tendrá que elegir cuál es más fácil de entender según el contexto del código donde se encuentren. "
   ]
  },
  {
   "cell_type": "code",
   "execution_count": 11,
   "id": "5850c3d3",
   "metadata": {},
   "outputs": [
    {
     "data": {
      "text/plain": [
       "0"
      ]
     },
     "execution_count": 11,
     "metadata": {},
     "output_type": "execute_result"
    }
   ],
   "source": [
    "\"Catch 22\" =~ /\\w+\\s+\\d+/\n",
    "/\\w+\\s+\\d+/ =~ \"Catch 22\""
   ]
  },
  {
   "cell_type": "markdown",
   "id": "4b8bc33d",
   "metadata": {},
   "source": [
    "Revisar: https://www.ralfebert.com/snippets/ruby-rails/regex_cheat_sheet/"
   ]
  },
  {
   "cell_type": "markdown",
   "id": "f84231b2",
   "metadata": {},
   "source": [
    "### Programación orientada a objetos"
   ]
  },
  {
   "cell_type": "markdown",
   "id": "84c7bba6",
   "metadata": {},
   "source": [
    "#### Variables de instancia y clase. \n",
    "\n",
    "Las variables de instancia son variables que pertenecen a una instancia de objeto particular. Cada objeto tiene sus propias variables de objeto. Las variables de instancia comienzan con @. Las variables de clase pertenecen a una clase específica. Todos los objetos creados a partir de una clase particular comparten variables de clase. Las variables de clase comienzan con caracteres @@."
   ]
  },
  {
   "cell_type": "markdown",
   "id": "66264406",
   "metadata": {},
   "source": [
    "Creamos una clase Being personalizada. La clase Being tiene una clase y una variable de instancia."
   ]
  },
  {
   "cell_type": "code",
   "execution_count": 17,
   "id": "144039a7",
   "metadata": {},
   "outputs": [
    {
     "data": {
      "text/plain": [
       "true"
      ]
     },
     "execution_count": 17,
     "metadata": {},
     "output_type": "execute_result"
    }
   ],
   "source": [
    "class Being\n",
    "\n",
    "    @@is = true\n",
    "end"
   ]
  },
  {
   "cell_type": "markdown",
   "id": "c0c9a04d",
   "metadata": {},
   "source": [
    "El @@is es una variable de clase. Esta variable es compartida por todas las instancias de la clase Being. La lógica de este ejemplo es que el Being is y el Being is and NotBeing is not.."
   ]
  },
  {
   "cell_type": "code",
   "execution_count": 18,
   "id": "6472d6f3",
   "metadata": {},
   "outputs": [
    {
     "data": {
      "text/plain": [
       ":initialize"
      ]
     },
     "execution_count": 18,
     "metadata": {},
     "output_type": "execute_result"
    }
   ],
   "source": [
    "def initialize nm\n",
    "    @name = nm\n",
    "end"
   ]
  },
  {
   "cell_type": "markdown",
   "id": "fa8147c7",
   "metadata": {},
   "source": [
    "El método `initialize` es un constructor. El método se llama cuando se crea el objeto. Se crea una variable de instancia @name. Esta variable es específica de un objeto concreto."
   ]
  },
  {
   "cell_type": "code",
   "execution_count": 19,
   "id": "982fa9e5",
   "metadata": {},
   "outputs": [
    {
     "data": {
      "text/plain": [
       ":to_s"
      ]
     },
     "execution_count": 19,
     "metadata": {},
     "output_type": "execute_result"
    }
   ],
   "source": [
    "def to_s\n",
    "    \"This is #{@name}\"\n",
    "end"
   ]
  },
  {
   "cell_type": "markdown",
   "id": "7dae40c0",
   "metadata": {},
   "source": [
    "Se llama al método to_s cuando el objeto es un parámetro de un método de impresión, como p o puts. En nuestro caso, el método proporciona una breve descripción legible por humanos del objeto."
   ]
  },
  {
   "cell_type": "code",
   "execution_count": 20,
   "id": "4619ea5f",
   "metadata": {},
   "outputs": [
    {
     "data": {
      "text/plain": [
       ":does_exist?"
      ]
     },
     "execution_count": 20,
     "metadata": {},
     "output_type": "execute_result"
    }
   ],
   "source": [
    "def does_exist?\n",
    "    @@is\n",
    "end"
   ]
  },
  {
   "cell_type": "markdown",
   "id": "0de2889f",
   "metadata": {},
   "source": [
    "El método does_exit devuelve la variable de clase."
   ]
  },
  {
   "cell_type": "code",
   "execution_count": 22,
   "id": "d54246eb-1065-4d33-9ea5-63e2d12e8c58",
   "metadata": {},
   "outputs": [
    {
     "data": {
      "text/plain": [
       ":does_exist?"
      ]
     },
     "execution_count": 22,
     "metadata": {},
     "output_type": "execute_result"
    }
   ],
   "source": [
    "class Being\n",
    "\n",
    "    @@is = true\n",
    "    def initialize nm\n",
    "    @name = nm\n",
    "    end\n",
    "    def to_s\n",
    "    \"This is #{@name}\"\n",
    "    end\n",
    "    def does_exist?\n",
    "    @@is\n",
    "    end\n",
    "end"
   ]
  },
  {
   "cell_type": "code",
   "execution_count": 29,
   "id": "1f33fb78",
   "metadata": {},
   "outputs": [
    {
     "name": "stdout",
     "output_type": "stream",
     "text": [
      "#<#<Class:0x00005586bae08d00>::Being:0x00005586baee9fa8 @name=\"Being 1\">\n",
      "#<#<Class:0x00005586bae08d00>::Being:0x00005586baee9ee0 @name=\"Being 2\">\n"
     ]
    },
    {
     "data": {
      "text/plain": [
       "#<#<Class:0x00005586bae08d00>::Being:0x00005586baee9e90 @name=\"Being 3\">"
      ]
     },
     "execution_count": 29,
     "metadata": {},
     "output_type": "execute_result"
    }
   ],
   "source": [
    "b1 = Being.new \"Being 1\"\n",
    "b2 = Being.new \"Being 2\"\n",
    "b3 = Being.new \"Being 3\"\n",
    "p b1\n",
    "p b2\n",
    "b3"
   ]
  },
  {
   "cell_type": "markdown",
   "id": "ca49fac7",
   "metadata": {},
   "source": [
    "Se crean tres objetos de la clase Being. Cada uno de los objetos tiene un nombre diferente. El nombre del objeto se almacenará en el método de instancia, que es único para cada instancia de objeto. Esto se utilizará en el método to_s, que proporciona una breve descripción del objeto."
   ]
  },
  {
   "cell_type": "code",
   "execution_count": 24,
   "id": "dccb95d0",
   "metadata": {},
   "outputs": [
    {
     "name": "stdout",
     "output_type": "stream",
     "text": [
      "This is Being 1\n",
      "This is Being 2\n",
      "This is Being 3\n"
     ]
    }
   ],
   "source": [
    "puts b1, b2, b3"
   ]
  },
  {
   "cell_type": "markdown",
   "id": "e8b6d92c",
   "metadata": {},
   "source": [
    "El método puts toma los objetos creados como tres parámetros. Llama al método to_s en cada uno de estos objetos."
   ]
  },
  {
   "cell_type": "code",
   "execution_count": 30,
   "id": "f6d26a22",
   "metadata": {},
   "outputs": [
    {
     "name": "stdout",
     "output_type": "stream",
     "text": [
      "true\n",
      "true\n",
      "true\n"
     ]
    },
    {
     "data": {
      "text/plain": [
       "true"
      ]
     },
     "execution_count": 30,
     "metadata": {},
     "output_type": "execute_result"
    }
   ],
   "source": [
    "p b1.does_exist?\n",
    "p b2.does_exist?\n",
    "p b3.does_exist?"
   ]
  },
  {
   "cell_type": "markdown",
   "id": "d6b09397",
   "metadata": {},
   "source": [
    "Finalmente, llamamos a does_exist?  de cada una de las instancias e imprimir sus valores de retorno. El resultado de estos tres métodos es el mismo, porque cada método devuelve la variable de clase."
   ]
  },
  {
   "cell_type": "code",
   "execution_count": null,
   "id": "80e32b84",
   "metadata": {},
   "outputs": [],
   "source": [
    "# Escribe el codigo completo"
   ]
  },
  {
   "cell_type": "code",
   "execution_count": 27,
   "id": "cf43fe90-dff4-4c9a-b3f5-381cbe2638ec",
   "metadata": {},
   "outputs": [
    {
     "name": "stdout",
     "output_type": "stream",
     "text": [
      "Coche: Marca - Toyota, Modelo - Corolla\n",
      "Coche: Marca - Honda, Modelo - Civic\n",
      "Cantidad de coches creados: 2\n"
     ]
    }
   ],
   "source": [
    "#Otro ejemplo\n",
    "=begin\n",
    " El self antes del punto indica que este es un método de clase en lugar de \n",
    " un método de instancia. Los métodos de clase se llaman en la clase en sí, en lugar \n",
    " de en instancias específicas de la clase.\n",
    "=end\n",
    "class Coche\n",
    "  # Variable de clase para contar la cantidad de coches creados\n",
    "  @@cantidad_de_coches = 0\n",
    "\n",
    "  # Constructor de la clase que inicializa variables de instancia\n",
    "  def initialize(marca, modelo)\n",
    "    @marca = marca\n",
    "    @modelo = modelo\n",
    "    @@cantidad_de_coches += 1\n",
    "  end\n",
    "\n",
    "  # Método de instancia para obtener la información del coche\n",
    "  def obtener_informacion\n",
    "    \"Coche: Marca - #{@marca}, Modelo - #{@modelo}\"\n",
    "  end\n",
    "\n",
    "  # Método de clase para obtener la cantidad de coches creados\n",
    "  def self.cantidad_de_coches\n",
    "    @@cantidad_de_coches\n",
    "  end\n",
    "end\n",
    "\n",
    "# Crear instancias de la clase Coche\n",
    "coche1 = Coche.new(\"Toyota\", \"Corolla\")\n",
    "coche2 = Coche.new(\"Honda\", \"Civic\")\n",
    "\n",
    "# Llamar al método de instancia para obtener información\n",
    "puts coche1.obtener_informacion\n",
    "puts coche2.obtener_informacion\n",
    "\n",
    "# Llamar al método de clase para obtener la cantidad de coches\n",
    "puts \"Cantidad de coches creados: #{Coche.cantidad_de_coches}\"\n"
   ]
  },
  {
   "cell_type": "markdown",
   "id": "220bb681",
   "metadata": {},
   "source": [
    "**Importante**\n",
    "\n",
    "- class `F` abre una clase (nueva o ya existente) para añadir o cambiar métodos en ella. Al contrario que en Java, no es una declaración, sino código real que se ejecuta inmediatamente, creando un nuevo objeto Class y asignándolo a la constante `F`.\n",
    "-  `@x` especifica una variable de instancia y `@@x` especifica una variable de clase (estática). El espacio de nombres es distinto, así que `@x` y `@@x` son variables diferentes.\n",
    "- Sólo se puede acceder a las variables de clase y a las variables de instancia de una clase desde esa misma clase. Cualquier acceso desde el “mundo exterior” requiere una llamada a un método de acceso o un método modificador.\n",
    "- Se puede definir un método de clase en la clase `F` usando tanto `def F.some_method` o `def self.some_method`."
   ]
  },
  {
   "cell_type": "markdown",
   "id": "9bf5ff41",
   "metadata": {},
   "source": [
    "### Clases, métodos y herencia\n",
    "\n",
    "El código de la definición de la clase `Pelicula` muestra algunos conceptos básicos para definir clases en Ruby. "
   ]
  },
  {
   "cell_type": "code",
   "execution_count": 31,
   "id": "402434ac",
   "metadata": {},
   "outputs": [
    {
     "name": "stdout",
     "output_type": "stream",
     "text": [
      "Estoy viendo Alien, el octavo pasajero \n",
      "Estoy viendo Alien, el octavo pasajero  (1979)\n",
      "El Nostromo alli 'Alien, el octavo pasajero!'\n"
     ]
    }
   ],
   "source": [
    "class Pelicula\n",
    "  def initialize(titulo, fecha) #Constructor\n",
    "    @titulo = titulo #Variable de instancia\n",
    "    @fecha = fecha  #Variable de instancia\n",
    "  end\n",
    "  def titulo #Metodos de acceso o getter\n",
    "    @titulo\n",
    "  end\n",
    "  def titulo=(nuevo_titulo) # método de modificación o \"setter\"\n",
    "    @titulo = nuevo_titulo\n",
    "  end\n",
    "  def fecha ; @fecha ; end #Metodos de acceso o getter\n",
    "  def fecha=(nueva_fecha) ; @fecha = nueva_fecha ; end # método de modificación o \"setter\"\n",
    "  # Como se muestra la informacion de la pelicula\n",
    "  @@incluye_fecha = false #Variable de clase\n",
    "  def Pelicula.incluye_fecha=(nuevo_valor) # Este es un método de clase que permite \n",
    "                                           #cambiar el valor de la variable de clase @@incluye_fecha.\n",
    "    @@incluye_fecha = nuevo_valor   #Variable de clase\n",
    "  end\n",
    "  def titulo_completo\n",
    "    if @@incluye_fecha\n",
    "      \"#{self.titulo} (#{self.fecha})\"\n",
    "    else\n",
    "      self.titulo\n",
    "    end\n",
    "  end\n",
    "end\n",
    "\n",
    "# Ejemplo de uso de la clase Pelicula\n",
    "\n",
    "pasajero = Pelicula.new('Alien, el octavo pasajero ', '1979')\n",
    "\n",
    "# Nombre de la pelicula\n",
    "puts \"Estoy viendo #{pasajero.titulo_completo}\"\n",
    "\n",
    "#Fecha de la pelicula\n",
    "Pelicula.incluye_fecha = true\n",
    "puts \"Estoy viendo #{pasajero.titulo_completo}\"\n",
    "\n",
    "# Cambio de titulo\n",
    "pasajero.titulo = 'Alien, el octavo pasajero'\n",
    "puts \"El Nostromo alli '#{pasajero.titulo}!'\""
   ]
  },
  {
   "cell_type": "markdown",
   "id": "bed0d9f1",
   "metadata": {},
   "source": [
    "**Ejercicio**\n",
    "\n",
    "Explica cada uno de las partes de este programa en Ruby."
   ]
  },
  {
   "cell_type": "code",
   "execution_count": null,
   "id": "c6df4d14",
   "metadata": {},
   "outputs": [],
   "source": [
    "# Tu respuesta"
   ]
  },
  {
   "cell_type": "markdown",
   "id": "31322881",
   "metadata": {},
   "source": [
    "#### Abstracción y encapsulamiento\n",
    "\n",
    "Ruby admite la herencia tradicional y utiliza la clase de notación class SubF1<F1 para indicar que SubF1 es una subclase de F1. Una clase puede heredar como máximo una superclase (Ruby carece de herencia múltiple) y, en última instancia, todas las clases heredan de BasicObject, a veces llamado clase raíz, que no tiene superclase. \n",
    "\n",
    "Como ocurre con la mayoría de los lenguajes que admiten la herencia, si un objeto recibe una llamada a un método no definido en su clase, la llamada se pasará a la superclase, y así sucesivamente hasta que se alcance la clase raíz o se genere una excepción de método indefinido. \n",
    "\n",
    "El constructor predeterminado de una clase debe ser un método llamado initialize, pero siempre se llama F1.new; esa es una idiosincrasia del lenguaje. \n",
    "\n",
    "Las clases pueden tener tanto métodos de clase (estáticos) como métodos de instancia, y variables de clase (estáticas) y variables de instancia. Los nombres de las variables de clase comienzan con @@ y los nombres de las variables de instancia comienzan con @. Los nombres de los métodos de clase y de instancia tienen el mismo aspecto.  "
   ]
  },
  {
   "cell_type": "code",
   "execution_count": 32,
   "id": "1e7fc00c",
   "metadata": {},
   "outputs": [
    {
     "data": {
      "text/plain": [
       "\"Alien, el octavo pasajero (1979)\""
      ]
     },
     "execution_count": 32,
     "metadata": {},
     "output_type": "execute_result"
    }
   ],
   "source": [
    "class Pelicula\n",
    "  def initialize(titulo, fecha)\n",
    "    @titulo = titulo\n",
    "    @fecha = fecha\n",
    "  end\n",
    "  # metodo de clase (estatico) -self se refiere a la actual clase\n",
    "  def self.encontrar_en_tmdb(palabras_pelicula)\n",
    "        # llama a TMDb para buscar una pelicula\n",
    "  end\n",
    "  def titulo\n",
    "    @titulo\n",
    "  end\n",
    "  def titulo=(nuevo_titulo)\n",
    "    @titulo = nuevo_titulo\n",
    "  end\n",
    "  def fecha ; @fecha ; end\n",
    "  # no se puede modificar el valor de @fecha\n",
    "  def titulo_completo  ; \"#{@titulo} (#{@fecha})\"; end\n",
    "\n",
    "end\n",
    "# Ejemplo de uso de la clase Pelicula\n",
    "\n",
    "pasajero = Pelicula.new('Alien, el octavo pasajero ', '1979')\n",
    "pasajero.titulo = 'Alien, el octavo pasajero'\n",
    "pasajero.titulo_completo\n",
    "#pasajero.fecha=1979 => error no ha metodo \"fecha=\""
   ]
  },
  {
   "cell_type": "markdown",
   "id": "61966eac",
   "metadata": {},
   "source": [
    " En Ruby, el acceso al estado de clase o instancia debe realizarse a través de métodos `getter` y `setter`, también llamados colectivamente métodos de acceso.  "
   ]
  },
  {
   "cell_type": "code",
   "execution_count": 2,
   "id": "094f229c",
   "metadata": {},
   "outputs": [
    {
     "ename": "ArgumentError",
     "evalue": "wrong number of arguments (given 2, expected 0)",
     "output_type": "error",
     "traceback": [
      "\u001b[31mArgumentError\u001b[0m: wrong number of arguments (given 2, expected 0)",
      "(irb):11:in `initialize'",
      "(irb):11:in `new'",
      "(irb):11:in `irb_binding'"
     ]
    }
   ],
   "source": [
    "class Pelicula\n",
    "  def self.encontrar_en_tmdb(palabras_pelicula)\n",
    "        # llama a TMDb para buscar una pelicula\n",
    "  end\n",
    "  attr_accessor :titulo # puedes leer y escribir este atributo\n",
    "  attr_reader :fecha    # solo puedes leer este atributo\n",
    "  def titulo_completo  ; \"#{@titulo} (#{@fecha})\"; end\n",
    "\n",
    "end\n",
    "# Ejemplo de uso de la clase Pelicula\n",
    "\n",
    "pasajero = Pelicula.new('Alien, el octavo pasajero ', '1979')\n",
    "pasajero.titulo = 'Alien, el octavo pasajero'\n",
    "pasajero.titulo_completo\n",
    "#pasajero.fecha=1979 => error no ha metodo \"fecha=\""
   ]
  },
  {
   "cell_type": "markdown",
   "id": "11001b44",
   "metadata": {},
   "source": [
    "**Pregunta:** Ubica donde se encuentran los `getter` y `setters` en los códigos anteriores."
   ]
  },
  {
   "cell_type": "code",
   "execution_count": null,
   "id": "554a92af",
   "metadata": {},
   "outputs": [],
   "source": [
    "##  Tus respuestas"
   ]
  },
  {
   "cell_type": "markdown",
   "id": "98bf9a09",
   "metadata": {},
   "source": [
    "**Pregunta:** Explica en que consiste el Principio de Acceso Uniforme y como se observa en los códigos anteriores. "
   ]
  },
  {
   "cell_type": "code",
   "execution_count": null,
   "id": "27eec982",
   "metadata": {},
   "outputs": [],
   "source": [
    "## Tus respuestas"
   ]
  },
  {
   "cell_type": "markdown",
   "id": "d9b8493f",
   "metadata": {},
   "source": [
    "### Ejercicios\n",
    "\n",
    "1 Dados los siguientes fragmentos de código Ruby, determina el resultado. Si puedes, encuentra un compañero, discute y luego valida tus soluciones escribiendo el código en un intérprete. Debe alternar quién escribe y quién explica el resultado.\n"
   ]
  },
  {
   "cell_type": "markdown",
   "id": "a9eb6dbe",
   "metadata": {},
   "source": [
    "```\n",
    "fruta1 = \"cereza\"\n",
    "fruta = \"pltano\"\n",
    "puts fruta1.reverse\n",
    "puts fruta2.reverse!\n",
    "fruta1 + \" \" + fruta2\n",
    "```\n"
   ]
  },
  {
   "cell_type": "markdown",
   "id": "19d9cff7",
   "metadata": {},
   "source": [
    "```\n",
    "class Cadena\n",
    "  @@hola = \"hola alli!\"\n",
    "  def hola; \"mundo\"; end\n",
    "end\n",
    "\"smoothie\".hola\n",
    "```"
   ]
  },
  {
   "cell_type": "markdown",
   "id": "59c37f1b",
   "metadata": {},
   "source": [
    "```\n",
    "class Fruit\n",
    "  def method_missing(meth)\n",
    "    if meth.to_s =~ \\/^tastes_(.+)\\?\\$\\/\n",
    "      \"Yup,that fruit tastes #{\\$1}!\"\n",
    "    else\n",
    "      super\n",
    "    end\n",
    "  end\n",
    "end\n",
    "\n",
    "orange = Fruit.new\n",
    "orange.bitter?\n",
    "orange.tastes_sour?\n",
    "orange.tastes_sweet?\n",
    "```"
   ]
  },
  {
   "cell_type": "code",
   "execution_count": 40,
   "id": "2547f99b",
   "metadata": {},
   "outputs": [
    {
     "name": "stdout",
     "output_type": "stream",
     "text": [
      "azerec\n",
      "onatlp\n",
      "mundo\n"
     ]
    },
    {
     "data": {
      "text/plain": [
       "\"Yup,that fruit tastes sweet!\""
      ]
     },
     "execution_count": 40,
     "metadata": {},
     "output_type": "execute_result"
    }
   ],
   "source": [
    "# Tus respuestas\n",
    "fruta1 = \"cereza\"\n",
    "fruta2 = \"pltano\"\n",
    "puts fruta1.reverse\n",
    "puts fruta2.reverse!\n",
    "fruta1 + \" \" + fruta2\n",
    "\n",
    "#fNotamos que ruta1 seguirá siendo \"cereza\", mientras que fruta2 será \"onatlp\"\n",
    "\n",
    "class Cadena\n",
    "  @@hola = \"hola alli!\"\n",
    "  def hola; \"mundo\"; end\n",
    "end\n",
    "\n",
    "smoothie = Cadena.new\n",
    "puts smoothie.hola\n",
    "\n",
    "#El method_missing se invoca cuando se intenta llamar a un método que no está definido en la instancia de la clase Fruit.\n",
    "#que en este caso deben tienen que coincidir con el patrón \"tastes_\"\n",
    "class Fruit\n",
    "  def method_missing(meth)\n",
    "    if meth.to_s =~ /^tastes_(.+)\\?$/ \n",
    "      \"Yup,that fruit tastes #{$1}!\"\n",
    "    else\n",
    "      super\n",
    "    end\n",
    "  end\n",
    "end\n",
    "#El patrón es una expresión regular que busca un nombre de método que \n",
    "#comienza con \"tastes_\", seguido de uno o más caracteres y termina con un signo de interrogación(?)\n",
    "\n",
    "#Creación de una instancia de Fruit y llamadas a métodos dinámicos:\n",
    "orange = Fruit.new\n",
    "#orange.bitter?\n",
    "orange.tastes_sour?\n",
    "orange.tastes_sweet?\n",
    "#Finalmente, notamos que los metodos tastes_sour? y tastes_sweet? retornan el mensaje \"Yup,that fruit tastes sour!\" y\n",
    "#\"Yup,that fruit tastes sweet!\" respectivamente, no obstante en el metodo bitter? retorna super lo cual mostrara\n",
    "#una excepcion."
   ]
  },
  {
   "cell_type": "markdown",
   "id": "3e9def5d",
   "metadata": {},
   "source": [
    "2 En la siguiente parte, intenta reescribir cada uno de los siguientes métodos en una línea (corta). Una persona debe ser el escritor, mientras la otra explica qué escribir. Intenta alternar roles entre los dos ejercicios."
   ]
  },
  {
   "cell_type": "markdown",
   "id": "6dfa453e",
   "metadata": {},
   "source": [
    "```\n",
    "def foo(arr)\n",
    "  res = 0\n",
    "  arr.each do |n|\n",
    "    res += n\n",
    "  end\n",
    "  res\n",
    "end\n",
    "```"
   ]
  },
  {
   "cell_type": "markdown",
   "id": "4c00f192",
   "metadata": {},
   "source": [
    "```\n",
    "def bar(hsh)\n",
    "  res = {}\n",
    "  hsh.each do |k, v|\n",
    "    if v > 100\n",
    "      res[k] = v\n",
    "    end\n",
    "  end\n",
    "  res\n",
    "end\n",
    "```"
   ]
  },
  {
   "cell_type": "code",
   "execution_count": 42,
   "id": "0d53b077-588b-4717-83ad-38810090a895",
   "metadata": {},
   "outputs": [
    {
     "name": "stdout",
     "output_type": "stream",
     "text": [
      "60\n",
      "{\"Angelica\"=>130}\n"
     ]
    }
   ],
   "source": [
    "def foo(arr)\n",
    "  res = 0\n",
    "  arr.each do |n|\n",
    "    res += n\n",
    "  end\n",
    "  res\n",
    "end\n",
    "\n",
    "def bar(hsh)\n",
    "  res = {}\n",
    "  hsh.each do |k, v|\n",
    "    if v > 100\n",
    "      res[k] = v\n",
    "    end\n",
    "  end\n",
    "  res\n",
    "end\n",
    "\n",
    "arr = [10,20,30]\n",
    "hsh = {\"Miguel\"=>30,\"Viviana\"=>80,\"Angelica\"=>130}\n",
    "\n",
    "puts foo(arr)\n",
    "puts bar(hsh)"
   ]
  },
  {
   "cell_type": "code",
   "execution_count": 41,
   "id": "0d6ade58",
   "metadata": {},
   "outputs": [
    {
     "name": "stdout",
     "output_type": "stream",
     "text": [
      "60\n",
      "{\"Angelica\"=>130}\n"
     ]
    }
   ],
   "source": [
    "# Tus respuestas\n",
    "arr = [10,20,30]\n",
    "hsh = {\"Miguel\"=>30,\"Viviana\"=>80,\"Angelica\"=>130}\n",
    "\n",
    "def foo(arr)\n",
    "  res = 0\n",
    "  arr.each{|n| res += n}\n",
    "  res\n",
    "end\n",
    "# El bucle each recorre cada elemento n en el arreglo arr. En cada iteración, el valor de n \n",
    "#se suma al valor actual de res.\n",
    "\n",
    "def bar(hsh)\n",
    "  res = hsh.delete_if{|k,v| v<=100}\n",
    "  res\n",
    "end\n",
    "\n",
    "puts foo(arr)\n",
    "puts bar(hsh)\n",
    "# la función bar devuelve el hash res, que contiene los pares \n",
    "#clave-valor del hash hsh que cumplen con la condición de tener valores mayores que 100.\n"
   ]
  },
  {
   "cell_type": "markdown",
   "id": "dd1e64d2",
   "metadata": {},
   "source": [
    "3 En esta parte, crea tus propios iteradores con la declaración yield que devuelvan los siguientes elementos. Nuevamente, alterna roles entre los dos ejercicios.\n",
    "\n",
    "(i) Escriba una función fib(n) que produzca los primeros n números de Fibonacci en secuencia y devuelva nil\n",
    "\n",
    "```\n",
    ">> fib(4) { |x| puts x }\n",
    "1\n",
    "1\n",
    "2\n",
    "3\n",
    "nil\n",
    "```"
   ]
  },
  {
   "cell_type": "code",
   "execution_count": 51,
   "id": "16628111",
   "metadata": {},
   "outputs": [
    {
     "name": "stdout",
     "output_type": "stream",
     "text": [
      "1\n",
      "1\n",
      "2\n",
      "3\n",
      "nil\n"
     ]
    }
   ],
   "source": [
    "# Tu respuesta\n",
    "def fib(n)\n",
    "  #return \"nil\" if n <= 0\n",
    "  fibo1 = 1\n",
    "  fibo2 = 1\n",
    "\n",
    "  n.times do\n",
    "    yield fibo1\n",
    "    fibo1, fibo2 = fibo2, fibo1 + fibo2\n",
    "  end\n",
    "  yield \"nil\"\n",
    "end\n",
    "\n",
    "fib(4) { |x| puts x }"
   ]
  },
  {
   "cell_type": "markdown",
   "id": "b67699ad",
   "metadata": {},
   "source": [
    "(ii) Escribe la función Array#odds que produce los elementos indexados impares de un arreglo  en secuencia y devuelve nil.\n",
    "\n",
    "```\n",
    ">> [10, 30, 50, 70, 90].odds do |n|\n",
    "..\n",
    "puts n\n",
    ".. end\n",
    "30\n",
    "70\n",
    "nil\n",
    "```"
   ]
  },
  {
   "cell_type": "code",
   "execution_count": 47,
   "id": "276123ed",
   "metadata": {},
   "outputs": [],
   "source": [
    "# Tu respuesta"
   ]
  },
  {
   "cell_type": "markdown",
   "id": "0e29dd2f",
   "metadata": {},
   "source": [
    "4 Escribe de 1 a 3 líneas de código Ruby para cada una de las siguientes tareas. No utilices ningún bucle explícito (for, each, while, etc.): utiliza sólo los operadores de colección, la mayoría de los cuales están definidos en el módulo `Enumerable`.\n",
    "\n",
    "(Una pista adicional: la palabra clave es `compact`. Busca la documentación en línea si no estás familiarizado con ella!)\n",
    "\n",
    "Suponiendo que la variable `palabras` es un arreglo en la que cada elemento es una cadena (que puede estar vacía) o nil, escriba una pequeña cantidad de código Ruby que devolverá:\n",
    "\n",
    "- Una copia de `palabras` con elementos `nil` eliminados.\n",
    "- Una copia de `palabras` con elementos de cadena vacíos y `nil` eliminados.\n",
    "\n",
    "- Sólo aquellas `palabras` que tengan exactamente 3 letras.\n",
    "- Sólo aquellas `palabras` que contengan al menos una vocal (a, e, i, o, u)\n",
    "- Una cadena que es la concatenación de `palabras`."
   ]
  },
  {
   "cell_type": "code",
   "execution_count": 56,
   "id": "415bf9bf",
   "metadata": {},
   "outputs": [
    {
     "name": "stdout",
     "output_type": "stream",
     "text": [
      "[\"CC3S2\", \"CCC\", \"\", \"1914-1918\", \"  \", \"1939-1945\"]\n",
      "[\"CC3S2\", \"CCC\", \"1914-1918\", \"1939-1945\"]\n",
      "[\"CCC\"]\n"
     ]
    },
    {
     "data": {
      "text/plain": [
       "\"CC3S2CCC1914-19181939-1945\""
      ]
     },
     "execution_count": 56,
     "metadata": {},
     "output_type": "execute_result"
    }
   ],
   "source": [
    "# Tus respuestas\n",
    "\n",
    "\n",
    "palabras = [\"CC3S2\",\"CCC\",nil,\"\",\"1914-1918\",nil,\"  \",\"1939-1945\"]\n",
    "\n",
    "####################################3\n",
    "p copia1 = palabras.compact()\n",
    "################################\n",
    "p copia2 = palabras.delete_if{|word| /\\S/.match(word)==nil} # nil se considera falso\n",
    "###############################################################\n",
    "p copia3 = palabras.compact().keep_if{|word| word.length == 3}\n",
    "#############################################################\n",
    "cadenaUnion = palabras.join\n",
    "\n"
   ]
  },
  {
   "cell_type": "markdown",
   "id": "18f96c4f",
   "metadata": {},
   "source": [
    "#### Tipado estático y dinámico\n",
    "     \n",
    "\n",
    "Cada valor de un programa está asociado a un tipo. Dependiendo del lenguaje, los tipos de variables se pueden definir de forma estática o dinámica. Ruby se basa en un principio que se llama Duck Typing. Entonces, echemos un vistazo a qué son los lenguajes tipificados estática y dinámicamente.\n",
    "\n",
    "En un lenguaje de tipo estático, el tipo de variable es estático. Esto significa que cuando asocia una variable con un tipo, ya no puede cambiarla. En este caso, escribir está asociado con la variable en lugar del valor al que se refiere.\n",
    "Algunos lenguajes, como C, obligan a que cada variable se asocie con un conjunto de restricciones en el momento de la declaración. Estas restricciones son específicas de cada tipo existente en C.\n"
   ]
  },
  {
   "cell_type": "code",
   "execution_count": null,
   "id": "a8c32034",
   "metadata": {},
   "outputs": [],
   "source": [
    "int main()\n",
    "{\n",
    "  int  x;\n",
    "  \n",
    "  x = \"Hokage\"; //  warning: incompatible pointer to integer conversion assigning to 'int' from 'char [15]' [-Wint-conversion]\n",
    "  return (0);\n",
    "}"
   ]
  },
  {
   "cell_type": "markdown",
   "id": "25384a28",
   "metadata": {},
   "source": [
    "\n",
    "En un lenguaje escrito dinámicamente, los tipos de variables son dinámicos. Esto significa que cuando asocias una variable con un tipo, puedes cambiarla cuando quieras. En realidad, escribir está asociado con el valor que asume y no con la variable en sí.\n",
    "\n",
    "Algunos lenguajes, como Python, son lenguajes de tipado dinámico.\n"
   ]
  },
  {
   "cell_type": "code",
   "execution_count": null,
   "id": "d82b9bc9",
   "metadata": {},
   "outputs": [],
   "source": [
    "## Completar"
   ]
  },
  {
   "cell_type": "markdown",
   "id": "cbd5e5b4",
   "metadata": {},
   "source": [
    "#### ¿Y qué pasa con Ruby?\n",
    "\n",
    "A diferencia de la escritura estática y dinámica de variables (y expresiones), el ducking type no es una característica del lenguaje, sino un principio de diseño que es una combinación de escritura dinámica y programación orientada a objetos. Dado que Ruby es un lenguaje de programación orientado a objetos de tipo dinámico, es natural que la comunidad Ruby fomente el ducking type.\n",
    "\n",
    "Yukihiro “Matz” Matsumoto\n"
   ]
  },
  {
   "cell_type": "code",
   "execution_count": 69,
   "id": "cb352c53",
   "metadata": {},
   "outputs": [
    {
     "name": "stdout",
     "output_type": "stream",
     "text": [
      "¡Cuac, cuac!\n",
      "¡Honk, honk!\n"
     ]
    },
    {
     "data": {
      "text/plain": [
       "Module"
      ]
     },
     "execution_count": 69,
     "metadata": {},
     "output_type": "execute_result"
    }
   ],
   "source": [
    "class Pato\n",
    "  def graznar\n",
    "    puts \"¡Cuac, cuac!\"\n",
    "  end\n",
    "end\n",
    "\n",
    "class Ganso\n",
    "  def graznar\n",
    "    puts \"¡Honk, honk!\"\n",
    "  end\n",
    "end\n",
    "\n",
    "def hacer_graznar(objeto)\n",
    "  objeto.graznar\n",
    "end\n",
    "\n",
    "pato = Pato.new\n",
    "ganso = Ganso.new\n",
    "\n",
    "hacer_graznar(pato)  # Imprime \"¡Cuac, cuac!\"\n",
    "hacer_graznar(ganso) # Imprime \"¡Honk, honk!\"\n",
    "pato.class\n",
    "#Pato.class\n",
    "#Pato.superclass\n",
    "#Class.superclass"
   ]
  },
  {
   "cell_type": "code",
   "execution_count": null,
   "id": "c68951d3-f4f0-426d-a384-52a8a9a0d13f",
   "metadata": {},
   "outputs": [],
   "source": []
  }
 ],
 "metadata": {
  "kernelspec": {
   "display_name": "Ruby 2.7.0",
   "language": "ruby",
   "name": "ruby"
  },
  "language_info": {
   "file_extension": ".rb",
   "mimetype": "application/x-ruby",
   "name": "ruby",
   "version": "2.7.0"
  }
 },
 "nbformat": 4,
 "nbformat_minor": 5
}
