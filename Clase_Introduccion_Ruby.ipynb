{
 "cells": [
  {
   "cell_type": "code",
   "execution_count": 54,
   "id": "2a7c7157-9907-456a-bdd8-c93c6eab57a4",
   "metadata": {},
   "outputs": [
    {
     "name": "stderr",
     "output_type": "stream",
     "text": [
      "(irb): warning: already initialized constant Object::Ancho\n"
     ]
    },
    {
     "name": "stdout",
     "output_type": "stream",
     "text": [
      "*****\n",
      "*****\n",
      "*****\n",
      "*****\n",
      "*****\n"
     ]
    }
   ],
   "source": [
    "Ancho = 5\n",
    "\n",
    "def imprimir_cuadrado\n",
    "  puts (\"*\" * Ancho + \"\\n\") * Ancho\n",
    "end\n",
    "\n",
    "imprimir_cuadrado"
   ]
  },
  {
   "cell_type": "code",
   "execution_count": 51,
   "id": "d968c460-8e02-48f8-b2ef-ba738013a5ea",
   "metadata": {},
   "outputs": [
    {
     "name": "stdout",
     "output_type": "stream",
     "text": [
      "Plus\n"
     ]
    }
   ],
   "source": [
    "obj = Object.new\n",
    "def obj.+(other_obj)\n",
    "  \"Plus\"\n",
    "end\n",
    "puts obj + 100"
   ]
  },
  {
   "cell_type": "code",
   "execution_count": 61,
   "id": "1194a4d6-b719-4ccd-a6ca-a735d0e6d3d3",
   "metadata": {},
   "outputs": [
    {
     "name": "stdout",
     "output_type": "stream",
     "text": [
      "3\n",
      "3.5\n",
      "3\n"
     ]
    }
   ],
   "source": [
    "puts \"3.5\".to_i \n",
    "puts \"3.5\".to_f \n",
    "puts 3.to_s "
   ]
  },
  {
   "cell_type": "code",
   "execution_count": 74,
   "id": "5cd90791-55a0-4411-a463-83e70f9e72c6",
   "metadata": {},
   "outputs": [
    {
     "name": "stderr",
     "output_type": "stream",
     "text": [
      "(irb): warning: already initialized constant Object::A\n"
     ]
    },
    {
     "name": "stdout",
     "output_type": "stream",
     "text": [
      "[1, 4.3, \"hello\", 3..7, \"Goodbye\"]\n"
     ]
    },
    {
     "data": {
      "text/plain": [
       "[1, 4.3, \"hello\", 3..7, \"Goodbye\", nil, \"Hello\"]"
      ]
     },
     "execution_count": 74,
     "metadata": {},
     "output_type": "execute_result"
    }
   ],
   "source": [
    "A = [1,4.3,\"hello\",3..7]\n",
    "A[4] = \"Goodbye\"\n",
    "p A\n",
    "A[6] = \"Hello\"\n",
    "A"
   ]
  },
  {
   "cell_type": "code",
   "execution_count": 76,
   "id": "14398bd3-2204-4a85-8917-610be2956651",
   "metadata": {},
   "outputs": [
    {
     "name": "stdout",
     "output_type": "stream",
     "text": [
      "¡80 es una edad!\n"
     ]
    }
   ],
   "source": [
    "edad = 50\n",
    "\n",
    "if edad < 35\n",
    "    puts\"soy joven aun\"\n",
    "elsif edad < 105\n",
    "    puts\"¡80 es una edad!\"\n",
    "else \n",
    "    puts\"¡Oh no!!\"\n",
    "end\n",
    "\n"
   ]
  },
  {
   "cell_type": "code",
   "execution_count": 79,
   "id": "da7c8653-b137-4ed7-b962-aabb1ec76322",
   "metadata": {},
   "outputs": [
    {
     "name": "stdout",
     "output_type": "stream",
     "text": [
      "todavía eres joven\n"
     ]
    }
   ],
   "source": [
    "puts \"todavía eres joven\" if edad < 105"
   ]
  },
  {
   "cell_type": "code",
   "execution_count": 81,
   "id": "35b5ddae-278e-4070-97a2-ad33bf894683",
   "metadata": {},
   "outputs": [
    {
     "name": "stdout",
     "output_type": "stream",
     "text": [
      "1\n",
      "2\n",
      "3\n",
      "4\n",
      "5\n",
      "6\n",
      "7\n",
      "8\n",
      "9\n"
     ]
    },
    {
     "data": {
      "text/plain": [
       "1...10"
      ]
     },
     "execution_count": 81,
     "metadata": {},
     "output_type": "execute_result"
    }
   ],
   "source": [
    "for i in 1...10\n",
    "    puts i\n",
    "end"
   ]
  },
  {
   "cell_type": "code",
   "execution_count": 82,
   "id": "384f7722-be65-42f4-a073-882f3965dbc9",
   "metadata": {},
   "outputs": [
    {
     "name": "stdout",
     "output_type": "stream",
     "text": [
      "No...C++!\n",
      "No...C++!\n",
      "No...C++!\n"
     ]
    },
    {
     "data": {
      "text/plain": [
       "3"
      ]
     },
     "execution_count": 82,
     "metadata": {},
     "output_type": "execute_result"
    }
   ],
   "source": [
    "3.times do\n",
    "    puts \"No...C++!\"\n",
    "end"
   ]
  },
  {
   "cell_type": "code",
   "execution_count": 83,
   "id": "a7ab678c-4c5c-432b-88dd-b37eb43da4b4",
   "metadata": {},
   "outputs": [
    {
     "name": "stdout",
     "output_type": "stream",
     "text": [
      "1\n",
      "2\n",
      "3\n",
      "4\n"
     ]
    },
    {
     "data": {
      "text/plain": [
       "[1, 2, 3, 4]"
      ]
     },
     "execution_count": 83,
     "metadata": {},
     "output_type": "execute_result"
    }
   ],
   "source": [
    "for i in [1, 2, 3, 4]\n",
    "    puts i\n",
    "end"
   ]
  },
  {
   "cell_type": "code",
   "execution_count": 84,
   "id": "19e21202-062a-4a83-92ee-e73dc97932e4",
   "metadata": {},
   "outputs": [
    {
     "name": "stdout",
     "output_type": "stream",
     "text": [
      "0\n",
      "1\n",
      "2\n",
      "3\n",
      "4\n"
     ]
    }
   ],
   "source": [
    "i = 0\n",
    "while i < 5\n",
    "    puts i\n",
    "    i= i+ 1\n",
    "end\n",
    "\n",
    "=begin\n",
    "\"unless\"  es el opuesto  lógico de \"if\"\n",
    " unless (edad >= 105)# if (edad < 105)\n",
    "\"until\" es el opuesto  lógico de \"while\"\n",
    " until(i >= 5) # while (i < 5)\n",
    "=end"
   ]
  },
  {
   "cell_type": "code",
   "execution_count": 38,
   "id": "f5577d70-ce62-4fc4-a57e-36dbe790ed5e",
   "metadata": {},
   "outputs": [
    {
     "name": "stdout",
     "output_type": "stream",
     "text": [
      "12\n"
     ]
    },
    {
     "data": {
      "text/plain": [
       "11"
      ]
     },
     "execution_count": 38,
     "metadata": {},
     "output_type": "execute_result"
    }
   ],
   "source": [
    "def agregar (num1,num2)\n",
    "    suma = num1 + num2\n",
    "    return suma\n",
    "end\n",
    "\n",
    "p agregar(5,7)\n",
    "agregar 8,3"
   ]
  },
  {
   "cell_type": "code",
   "execution_count": 40,
   "id": "5e65be47-e995-4296-81ae-ed9c9fbcb5fa",
   "metadata": {},
   "outputs": [
    {
     "name": "stdout",
     "output_type": "stream",
     "text": [
      "12\n"
     ]
    },
    {
     "data": {
      "text/plain": [
       "11"
      ]
     },
     "execution_count": 40,
     "metadata": {},
     "output_type": "execute_result"
    }
   ],
   "source": [
    "def agregar (num1,num2)\n",
    "    num1 + num2    \n",
    "end\n",
    "\n",
    "p agregar(5,7)\n",
    "agregar 8,3"
   ]
  },
  {
   "cell_type": "code",
   "execution_count": 28,
   "id": "b18bbcaa-f8b9-40b8-9ae2-fb4010bb294c",
   "metadata": {},
   "outputs": [
    {
     "name": "stdout",
     "output_type": "stream",
     "text": [
      "ab\n"
     ]
    }
   ],
   "source": [
    "def func(arg1,  arg2)\n",
    "    yield arg1, arg2\n",
    "end\n",
    "func(\"a\",  \"b\") {|v1, v2| puts (v1 + v2) }\n",
    "\n",
    "=begin\n",
    "yield arg1, arg2: Esta línea llama al bloque de código que se pasa a la función func.\n",
    "Los valores de arg1 y arg2 se pasan como argumentos al bloque. El yield arg1, arg2:\n",
    "Esta línea llama al bloque de código que se pasa a la función func. Los valores de arg1 y arg2\n",
    "se pasan como argumentos al bloque. El bloque se ejecutará en este punto con los valores de arg1 y arg2 \n",
    "que se pasaron.bloque se ejecutará en este punto con los valores de arg1 y arg2 que se pasaron.\n",
    "=end"
   ]
  },
  {
   "cell_type": "code",
   "execution_count": 34,
   "id": "af820944-6d91-441f-a716-3bbf185d311d",
   "metadata": {},
   "outputs": [
    {
     "name": "stdout",
     "output_type": "stream",
     "text": [
      "012345"
     ]
    },
    {
     "data": {
      "text/plain": [
       "0..5"
      ]
     },
     "execution_count": 34,
     "metadata": {},
     "output_type": "execute_result"
    }
   ],
   "source": [
    "(0..5).each {|v| print v} \n",
    "\n"
   ]
  },
  {
   "cell_type": "code",
   "execution_count": 35,
   "id": "732a87e5-d292-4146-8c8e-2970fbfd8736",
   "metadata": {},
   "outputs": [
    {
     "name": "stdout",
     "output_type": "stream",
     "text": [
      "123"
     ]
    },
    {
     "data": {
      "text/plain": [
       "[1, 2, 3]"
      ]
     },
     "execution_count": 35,
     "metadata": {},
     "output_type": "execute_result"
    }
   ],
   "source": [
    "[1,2,3].each { |v| print v } "
   ]
  },
  {
   "cell_type": "code",
   "execution_count": 36,
   "id": "945f06bc-34f1-48ba-8872-15122d6a604b",
   "metadata": {},
   "outputs": [
    {
     "name": "stdout",
     "output_type": "stream",
     "text": [
      "0123"
     ]
    },
    {
     "data": {
      "text/plain": [
       "4"
      ]
     },
     "execution_count": 36,
     "metadata": {},
     "output_type": "execute_result"
    }
   ],
   "source": [
    "4.times { |v| print v }"
   ]
  },
  {
   "cell_type": "code",
   "execution_count": 19,
   "id": "60b41486-8915-4ef6-9f80-3f7113feeb05",
   "metadata": {},
   "outputs": [
    {
     "name": "stdout",
     "output_type": "stream",
     "text": [
      "¡Tenemos  una coincidencia!\n"
     ]
    }
   ],
   "source": [
    "def tiene_a_b?(cadena)\n",
    "    if cadena =~ /b/\n",
    "        puts\"¡Tenemos  una coincidencia!\"\n",
    "    else\n",
    "        puts\"No hay coincidencias \"\n",
    "    end\n",
    "end\n",
    "\n",
    "tiene_a_b?(\"beso\")"
   ]
  },
  {
   "cell_type": "code",
   "execution_count": 27,
   "id": "337b26b6-fc45-4f1a-a5dd-63f8fe2306bd",
   "metadata": {},
   "outputs": [
    {
     "name": "stdout",
     "output_type": "stream",
     "text": [
      "divided by 0\n"
     ]
    }
   ],
   "source": [
    "def dividir (num, divisor)\n",
    "    begin \n",
    "        respuesta  = num/ divisor\n",
    "        rescue ZeroDivisionError=>  e\n",
    "            puts e.message\n",
    "    end\n",
    "end\n",
    "\n",
    "dividir(10,0)"
   ]
  },
  {
   "cell_type": "code",
   "execution_count": null,
   "id": "c49c8168-26c4-4862-be34-2a8abc2da94d",
   "metadata": {},
   "outputs": [],
   "source": []
  }
 ],
 "metadata": {
  "kernelspec": {
   "display_name": "Ruby 2.7.0",
   "language": "ruby",
   "name": "ruby"
  },
  "language_info": {
   "file_extension": ".rb",
   "mimetype": "application/x-ruby",
   "name": "ruby",
   "version": "2.7.0"
  }
 },
 "nbformat": 4,
 "nbformat_minor": 5
}
