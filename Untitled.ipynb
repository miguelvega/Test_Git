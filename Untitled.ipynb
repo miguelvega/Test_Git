{
 "cells": [
  {
   "cell_type": "code",
   "execution_count": 2,
   "id": "78d72ebf-a8f7-490b-82a0-a311a307c77b",
   "metadata": {},
   "outputs": [
    {
     "data": {
      "text/plain": [
       ":frontend"
      ]
     },
     "execution_count": 2,
     "metadata": {},
     "output_type": "execute_result"
    }
   ],
   "source": [
    "class Developer\n",
    "\n",
    "  def self.backend\n",
    "    \"I am backend developer\"\n",
    "  end\n",
    "  \n",
    "  def frontend\n",
    "    \"I am frontend developer\"\n",
    "  end\n",
    "\n",
    "end"
   ]
  },
  {
   "cell_type": "code",
   "execution_count": 3,
   "id": "1eeda68e-3699-44e0-a6f3-32cf9bea32e3",
   "metadata": {},
   "outputs": [
    {
     "name": "stdout",
     "output_type": "stream",
     "text": [
      "Class\n",
      "Module\n",
      "Object\n",
      "BasicObject\n"
     ]
    },
    {
     "data": {
      "text/plain": [
       "BasicObject"
      ]
     },
     "execution_count": 3,
     "metadata": {},
     "output_type": "execute_result"
    }
   ],
   "source": [
    "p Developer.class # Class\n",
    "p Class.superclass # Module\n",
    "p Module.superclass # Object\n",
    "p Object.superclass # BasicObject"
   ]
  },
  {
   "cell_type": "code",
   "execution_count": 4,
   "id": "8a0a6f73-becf-49c5-b44e-d59e9aa2a35a",
   "metadata": {},
   "outputs": [
    {
     "name": "stdout",
     "output_type": "stream",
     "text": [
      "#<Class:0x0000557829ebc4d0>::Developer\n"
     ]
    },
    {
     "data": {
      "text/plain": [
       "#<Class:0x0000557829ebc4d0>::Developer"
      ]
     },
     "execution_count": 4,
     "metadata": {},
     "output_type": "execute_result"
    }
   ],
   "source": [
    "class Developer\n",
    "  p self  #  el self se refiere a la clase misma que es una instancia de clase Class\n",
    "end\n",
    "# Developer\n"
   ]
  },
  {
   "cell_type": "code",
   "execution_count": 6,
   "id": "dd6ff5e0-9ea8-4883-8607-027f33b28001",
   "metadata": {},
   "outputs": [
    {
     "data": {
      "text/plain": [
       "#<#<Class:0x0000557829ebc4d0>::Developer:0x000055782a376ea8>"
      ]
     },
     "execution_count": 6,
     "metadata": {},
     "output_type": "execute_result"
    }
   ],
   "source": [
    "class Developer\n",
    "  def frontend\n",
    "    self  #Métodos de instancia internos, self se refiere a una instancia de la clase. \n",
    "  end\n",
    "end\n",
    " \n",
    "Developer.new.frontend\n",
    "# #<Developer:0x2c8a148>  # selfse refiere a una instancia de la clase. "
   ]
  },
  {
   "cell_type": "code",
   "execution_count": 7,
   "id": "0122cd4b-21ec-45b8-bccc-f0f1cb70565e",
   "metadata": {},
   "outputs": [
    {
     "data": {
      "text/plain": [
       "#<Class:0x0000557829ebc4d0>::Developer"
      ]
     },
     "execution_count": 7,
     "metadata": {},
     "output_type": "execute_result"
    }
   ],
   "source": [
    "class Developer\n",
    "  def self.backend\n",
    "    self #Métodos de clase internos\n",
    "  end\n",
    "end\n",
    "\n",
    "Developer.backend\n",
    "# Developer  #self se refiere a la clase misma de una manera"
   ]
  },
  {
   "cell_type": "code",
   "execution_count": 11,
   "id": "ce6a3271-6f3c-4eae-8a65-f9f0559f48c0",
   "metadata": {},
   "outputs": [
    {
     "data": {
      "text/plain": [
       "\"I'M A STRING OBJECT\""
      ]
     },
     "execution_count": 11,
     "metadata": {},
     "output_type": "execute_result"
    }
   ],
   "source": [
    "example = \"I'm a string object\"\n",
    "\n",
    "def example.something\n",
    "  self.upcase\n",
    "end\n",
    "\n",
    "example.something\n",
    "# I'M A STRING OBJECT\n"
   ]
  },
  {
   "cell_type": "code",
   "execution_count": 14,
   "id": "bcb04170-8d33-4943-9fa9-b9b0f39b9475",
   "metadata": {},
   "outputs": [
    {
     "data": {
      "text/plain": [
       "\"I'M A STRING OBJECT\""
      ]
     },
     "execution_count": 14,
     "metadata": {},
     "output_type": "execute_result"
    }
   ],
   "source": [
    "example = \"I'm a string object\"\n",
    "\n",
    "class << example #Se puede entender que nuestro objeto example se comporta como una clase\n",
    "  def something   # y este metodo es propio de esta clase example, es decir como un metodo de clase\n",
    "    self.upcase\n",
    "  end\n",
    "end\n",
    "\n",
    "example.something"
   ]
  },
  {
   "cell_type": "code",
   "execution_count": 19,
   "id": "5949a7ff-3a14-41bd-8eca-7b696755e117",
   "metadata": {},
   "outputs": [
    {
     "data": {
      "text/plain": [
       "\"I am backend developer\""
      ]
     },
     "execution_count": 19,
     "metadata": {},
     "output_type": "execute_result"
    }
   ],
   "source": [
    "class Developer\n",
    "  def self.backend\n",
    "    \"I am backend developer\"\n",
    "  end\n",
    "end\n",
    "\n",
    "Developer.backend"
   ]
  },
  {
   "cell_type": "code",
   "execution_count": 17,
   "id": "a6e37573-36e1-49a1-8a81-09aa95c32868",
   "metadata": {},
   "outputs": [
    {
     "data": {
      "text/plain": [
       "\"I am backend developer\""
      ]
     },
     "execution_count": 17,
     "metadata": {},
     "output_type": "execute_result"
    }
   ],
   "source": [
    "def Developer.backend\n",
    "  \"I am backend developer\"\n",
    "end\n",
    "\n",
    "Developer.backend"
   ]
  },
  {
   "cell_type": "code",
   "execution_count": 8,
   "id": "34fe3790-1c12-4078-ac5a-0efb4fb18f62",
   "metadata": {},
   "outputs": [
    {
     "name": "stdout",
     "output_type": "stream",
     "text": [
      "I am backend developer\n"
     ]
    }
   ],
   "source": [
    "class Developer\n",
    "  class << self\n",
    "    def backend\n",
    "      \"I am backend developer\"\n",
    "    end\n",
    "  end\n",
    "end\n",
    "\n",
    "puts Developer.backend\n",
    "# Esto imprimirá: \"I am backend developer\"\n"
   ]
  },
  {
   "cell_type": "code",
   "execution_count": 13,
   "id": "86cc9a89-39fe-4256-9d89-e1875d84a1b2",
   "metadata": {},
   "outputs": [
    {
     "name": "stdout",
     "output_type": "stream",
     "text": [
      "Class\n"
     ]
    },
    {
     "data": {
      "text/plain": [
       "\"I am backend developer\""
      ]
     },
     "execution_count": 13,
     "metadata": {},
     "output_type": "execute_result"
    }
   ],
   "source": [
    "class << Developer\n",
    "  def backend\n",
    "    \"I am backend developer\"\n",
    "  end\n",
    "end\n",
    "puts Developer.class\n",
    "Developer.backend"
   ]
  },
  {
   "cell_type": "code",
   "execution_count": null,
   "id": "c453a904-5489-45b1-9c18-27a8f1d8ec59",
   "metadata": {},
   "outputs": [],
   "source": []
  }
 ],
 "metadata": {
  "kernelspec": {
   "display_name": "Ruby 2.7.0",
   "language": "ruby",
   "name": "ruby"
  },
  "language_info": {
   "file_extension": ".rb",
   "mimetype": "application/x-ruby",
   "name": "ruby",
   "version": "2.7.0"
  }
 },
 "nbformat": 4,
 "nbformat_minor": 5
}
